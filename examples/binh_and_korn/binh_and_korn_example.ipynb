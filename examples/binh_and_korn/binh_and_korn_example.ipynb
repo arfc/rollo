{
 "cells": [
  {
   "cell_type": "markdown",
   "id": "b041c8dd-95b3-48d2-a3fd-c5c7a4acf074",
   "metadata": {},
   "source": [
    "# Verification Example: Multi-Objective \n",
    "This notebook contains a verification study to verify ROLLO's optimization capabilities. \n",
    "The Bin and Korn function is a commonly used evolutionary algorithm multi objective benchmark problem. "
   ]
  },
  {
   "cell_type": "markdown",
   "id": "2ba1294a-d2a4-431c-acef-eea071b62f9d",
   "metadata": {},
   "source": [
    "## Binh and Korn Function\n",
    "\n",
    "The [Binh and Korn function](https://ieeexplore.ieee.org/abstract/document/9264536?casa_token=tF_gorfgdTMAAAAA:GrC-2is7-C_smXEWgBJvRvJ3WEqaZU16CI1lRs0985iWypc9uPVC5HuOACzDuWqJXSio8YWFSa4)  is a two-objective function:\n",
    "\n",
    "$$\n",
    "\\mathrm{Minimize} = \\begin{cases}\n",
    "    f_1 (x_1,x_2) = 4x_1^2+4x_2^2 \\\\ \n",
    "    f_2 (x_1,x_2) = (x_1-5)^2 + (x_2-5)^2\n",
    "\\end{cases}\n",
    "$$\n",
    "\n",
    "$$\n",
    "\\mathrm{Such\\ that} = \\begin{cases}\n",
    "    (x_1-8)^2 + (x_2+3)^2 \\geq 7.7 \\\\ \n",
    "    0 \\leq x_1 \\leq 5, 0 \\leq x_2 \\leq 3\n",
    "\\end{cases}\n",
    "$$\n",
    "\n",
    "Figure below shows the Binh and Korn function's Pareto front. \n",
    "![Binh and Korn Pareto Front](binh-paretofront.png)\n",
    "\n",
    "A successful ROLLO simulation will find the Pareto front. \n",
    "\n",
    "The [hypervolume indicator](https://arxiv.org/abs/2005.00515)  is used to quantify the Pareto front's goodness, and is the most used set-quality indicator for assessing stochastic multiobjective optimizers. \n",
    "The hypervolume indicator measures the volume (in the objective space) covered by non-dominated solutions for problems in which all objectives are to be minimized (see [Deb](https://www.wiley.com/en-us/Multi+Objective+Optimization+using+Evolutionary+Algorithms-p-9780471873396)).\n",
    "\n",
    "The larger the hypervolume value, the more optimized the set of solutions are. "
   ]
  },
  {
   "cell_type": "markdown",
   "id": "390904ba-0a98-43cb-900a-6bd9f4d08a11",
   "metadata": {},
   "source": [
    "## ROLLO Input File \n",
    "\n",
    "ROLLO varies `x1` and `x2` control variables to minimize the `f1` and `f2` output parameters simultaneously. The binh and korn function calculation occurs in `binh_and_korn_calculation.py`"
   ]
  },
  {
   "cell_type": "code",
   "execution_count": 13,
   "id": "0dd787c2-b471-483c-8b23-a9d7c72f32cb",
   "metadata": {},
   "outputs": [],
   "source": [
    "rollo_input_file = open(\"binh_and_korn_optimization.json\", \"w\")\n",
    "rollo_input_file.write(\"\"\"{\n",
    "    \"control_variables\": {\n",
    "        \"x1\": {\"min\": 0, \"max\": 5},\n",
    "        \"x2\": {\"min\": 0, \"max\": 3}\n",
    "    },\n",
    "    \"evaluators\": {\n",
    "        \"binh_and_korn_evaluator\": {\n",
    "            \"order\": 0,\n",
    "            \"input_script\": [\"python\", \"binh_and_korn_calculation.py\"],\n",
    "            \"inputs\": [\"x1\", \"x2\"],\n",
    "            \"output_script\": [\"python\", \"binh_and_korn_output.py\"],\n",
    "            \"outputs\": [\"f1\", \"f2\"]\n",
    "        }\n",
    "    },\n",
    "    \"constraints\": {},\n",
    "    \"algorithm\": {\n",
    "        \"objective\": [\"min\", \"min\"],\n",
    "        \"optimized_variable\": [\"f1\", \"f2\"],\n",
    "        \"weight\": [1, 1],\n",
    "        \"pop_size\": 120,\n",
    "        \"generations\": 5,\n",
    "        \"parallel\": \"none\",\n",
    "        \"keep_files\": \"none\", \n",
    "        \"mutation_probability\": 0.23,\n",
    "        \"mating_probability\": 0.90,\n",
    "        \"selection_operator\": {\n",
    "            \"operator\": \"selNSGA2\"\n",
    "        },\n",
    "        \"mutation_operator\": {\n",
    "            \"operator\": \"mutPolynomialBounded\",\n",
    "            \"eta\": 0.23,\n",
    "            \"indpb\": 0.23\n",
    "        },\n",
    "        \"mating_operator\": {\n",
    "            \"operator\": \"cxBlend\",\n",
    "            \"alpha\": 0.46\n",
    "        }\n",
    "    }\n",
    "}\n",
    "\n",
    "\"\"\")\n",
    "rollo_input_file.close()"
   ]
  },
  {
   "cell_type": "markdown",
   "id": "b00eafb6-4986-44fe-8cea-52192f0272cb",
   "metadata": {},
   "source": [
    "## ROLLO `binh_and_korn_calculation.py` input script to calculate binh and korn function values (f1 and f2). "
   ]
  },
  {
   "cell_type": "code",
   "execution_count": 14,
   "id": "cdfbb7cc-4d18-43b3-9feb-b7fd3d9aff73",
   "metadata": {},
   "outputs": [],
   "source": [
    "binh_and_korn_calculation = open(\"binh_and_korn_calculation.py\", \"w\")\n",
    "binh_and_korn_calculation.write(\"\"\"\n",
    "import numpy as np\n",
    "\n",
    "x1 = {{x1}}\n",
    "x2 = {{x2}}\n",
    "f1 = (4 * x1**2 + 4 * x2**2)\n",
    "f2 = (x1 - 5)**2 + (x2 - 5)**2\n",
    "\n",
    "print({\"f1\": f1, \"f2\": f2})\n",
    "\"\"\")\n",
    "binh_and_korn_calculation.close()"
   ]
  },
  {
   "cell_type": "markdown",
   "id": "e82dd738-c26a-4c00-b562-c0cb9464e82f",
   "metadata": {},
   "source": [
    "## binh_and_korn_output.py to return binh and korn function values to ROLLO. "
   ]
  },
  {
   "cell_type": "code",
   "execution_count": 18,
   "id": "451ae520-2885-40a9-819c-5bda1548fe09",
   "metadata": {},
   "outputs": [],
   "source": [
    "binh_and_korn_output = open(\"binh_and_korn_output.py\", \"w\")\n",
    "binh_and_korn_output.write(\"\"\"\n",
    "import numpy as np\n",
    "import ast\n",
    "\n",
    "file = open(\"binh_and_korn_evaluator_input_script_out.txt\")\n",
    "contents = file.read()\n",
    "binh = ast.literal_eval(contents)\n",
    "file.close()\n",
    "print(binh)\n",
    "\"\"\")\n",
    "binh_and_korn_output.close()"
   ]
  },
  {
   "cell_type": "markdown",
   "id": "e3cb3ca1-a04a-40fe-b34d-1e75f0f54877",
   "metadata": {},
   "source": [
    "## Run ROLLO Optimization"
   ]
  },
  {
   "cell_type": "code",
   "execution_count": 20,
   "id": "aefbf930-7eaf-43b2-afa8-1262c013527a",
   "metadata": {},
   "outputs": [
    {
     "name": "stderr",
     "output_type": "stream",
     "text": [
      "WARNING:root: parallel method = none\n",
      "WARNING:root: 0 out of 120 inds were constrained\n",
      "WARNING:root: 0 out of 120 inds were constrained\n",
      "WARNING:root: 0 out of 120 inds were constrained\n",
      "WARNING:root: 0 out of 120 inds were constrained\n"
     ]
    },
    {
     "name": "stdout",
     "output_type": "stream",
     "text": [
      "Entering generation 0...\n",
      "       \t   \t     \t                                                        oup                                                        \t                                  ind                                  \n",
      "       \t   \t     \t-------------------------------------------------------------------------------------------------------------------\t-----------------------------------------------------------------------\n",
      "time   \tgen\tevals\tavg                      \tstd                      \tmin                    \tmax                        \tavg                    \tmin                    \tmax                    \n",
      "86.3247\t0  \t120  \t[42.84084014 21.85177405]\t[30.64834208  8.90060249]\t[1.11407748 4.16574002]\t[134.59589925  43.27689228]\t[2.47792805 1.40791555]\t[0.03442282 0.01381724]\t[4.98930994 2.98318489]\n",
      "Entering generation 1...\n",
      "       \t   \t     \t                                                        oup                                                        \t                                  ind                                  \n",
      "       \t   \t     \t-------------------------------------------------------------------------------------------------------------------\t-----------------------------------------------------------------------\n",
      "time   \tgen\tevals\tavg                      \tstd                      \tmin                    \tmax                        \tavg                    \tmin                    \tmax                    \n",
      "86.3247\t0  \t120  \t[42.84084014 21.85177405]\t[30.64834208  8.90060249]\t[1.11407748 4.16574002]\t[134.59589925  43.27689228]\t[2.47792805 1.40791555]\t[0.03442282 0.01381724]\t[4.98930994 2.98318489]\n",
      "168.468\t1  \t115  \t[34.43781416 21.72716333]\t[28.28732357 10.18950074]\t[0.42021068 4.16574002]\t[134.59589925  46.13197006]\t[1.98983392 1.6983951 ]\t[0.05763528 0.12416718]\t[4.98930994 2.98318489]\n",
      "Entering generation 2...\n",
      "       \t   \t     \t                                                        oup                                                        \t                                  ind                                  \n",
      "       \t   \t     \t-------------------------------------------------------------------------------------------------------------------\t-----------------------------------------------------------------------\n",
      "time   \tgen\tevals\tavg                      \tstd                      \tmin                    \tmax                        \tavg                    \tmin                    \tmax                    \n",
      "86.3247\t0  \t120  \t[42.84084014 21.85177405]\t[30.64834208  8.90060249]\t[1.11407748 4.16574002]\t[134.59589925  43.27689228]\t[2.47792805 1.40791555]\t[0.03442282 0.01381724]\t[4.98930994 2.98318489]\n",
      "168.468\t1  \t115  \t[34.43781416 21.72716333]\t[28.28732357 10.18950074]\t[0.42021068 4.16574002]\t[134.59589925  46.13197006]\t[1.98983392 1.6983951 ]\t[0.05763528 0.12416718]\t[4.98930994 2.98318489]\n",
      "246.468\t2  \t110  \t[34.40796843 21.82049609]\t[29.81414997 11.05055852]\t[0.42021068 4.16574002]\t[134.59589925  46.13197006]\t[1.93682808 1.74132152]\t[0.05763528 0.12416718]\t[4.98930994 2.98318489]\n",
      "Entering generation 3...\n",
      "       \t   \t     \t                                                        oup                                                        \t                                  ind                                  \n",
      "       \t   \t     \t-------------------------------------------------------------------------------------------------------------------\t-----------------------------------------------------------------------\n",
      "time   \tgen\tevals\tavg                      \tstd                      \tmin                    \tmax                        \tavg                    \tmin                    \tmax                    \n",
      "86.3247\t0  \t120  \t[42.84084014 21.85177405]\t[30.64834208  8.90060249]\t[1.11407748 4.16574002]\t[134.59589925  43.27689228]\t[2.47792805 1.40791555]\t[0.03442282 0.01381724]\t[4.98930994 2.98318489]\n",
      "168.468\t1  \t115  \t[34.43781416 21.72716333]\t[28.28732357 10.18950074]\t[0.42021068 4.16574002]\t[134.59589925  46.13197006]\t[1.98983392 1.6983951 ]\t[0.05763528 0.12416718]\t[4.98930994 2.98318489]\n",
      "246.468\t2  \t110  \t[34.40796843 21.82049609]\t[29.81414997 11.05055852]\t[0.42021068 4.16574002]\t[134.59589925  46.13197006]\t[1.93682808 1.74132152]\t[0.05763528 0.12416718]\t[4.98930994 2.98318489]\n",
      "328.43 \t3  \t116  \t[34.71534136 21.1569727 ]\t[28.96102887 10.7332827 ]\t[0.42021068 4.16574002]\t[134.59589925  46.13197006]\t[1.94976519 1.80242107]\t[0.08436121 0.12416718]\t[4.98930994 2.98505327]\n",
      "Entering generation 4...\n",
      "       \t   \t     \t                                                        oup                                                        \t                                  ind                                  \n",
      "       \t   \t     \t-------------------------------------------------------------------------------------------------------------------\t-----------------------------------------------------------------------\n",
      "time   \tgen\tevals\tavg                      \tstd                      \tmin                    \tmax                        \tavg                    \tmin                    \tmax                    \n",
      "86.3247\t0  \t120  \t[42.84084014 21.85177405]\t[30.64834208  8.90060249]\t[1.11407748 4.16574002]\t[134.59589925  43.27689228]\t[2.47792805 1.40791555]\t[0.03442282 0.01381724]\t[4.98930994 2.98318489]\n",
      "168.468\t1  \t115  \t[34.43781416 21.72716333]\t[28.28732357 10.18950074]\t[0.42021068 4.16574002]\t[134.59589925  46.13197006]\t[1.98983392 1.6983951 ]\t[0.05763528 0.12416718]\t[4.98930994 2.98318489]\n",
      "246.468\t2  \t110  \t[34.40796843 21.82049609]\t[29.81414997 11.05055852]\t[0.42021068 4.16574002]\t[134.59589925  46.13197006]\t[1.93682808 1.74132152]\t[0.05763528 0.12416718]\t[4.98930994 2.98318489]\n",
      "328.43 \t3  \t116  \t[34.71534136 21.1569727 ]\t[28.96102887 10.7332827 ]\t[0.42021068 4.16574002]\t[134.59589925  46.13197006]\t[1.94976519 1.80242107]\t[0.08436121 0.12416718]\t[4.98930994 2.98505327]\n",
      "408.298\t4  \t113  \t[35.88358132 21.50432132]\t[31.7905009  11.65194535]\t[0.42021068 4.16574002]\t[134.59589925  46.13197006]\t[1.96773781 1.77891959]\t[0.08436121 0.12416718]\t[4.98930994 2.99705565]\n",
      "rollo Simulation Completed!\n",
      "Total time in simulation 408.3 seconds\n"
     ]
    },
    {
     "name": "stderr",
     "output_type": "stream",
     "text": [
      "WARNING:root: 0 out of 120 inds were constrained\n"
     ]
    },
    {
     "data": {
      "text/plain": [
       "0"
      ]
     },
     "execution_count": 20,
     "metadata": {},
     "output_type": "execute_result"
    }
   ],
   "source": [
    "import subprocess \n",
    "\n",
    "subprocess.call(\"python -m rollo -i binh_and_korn_optimization.json\", shell=True)"
   ]
  },
  {
   "cell_type": "markdown",
   "id": "9fd5ccbf-07f4-4a59-858b-91e556b8cb4e",
   "metadata": {},
   "source": [
    "## Analyze Results Checkpoint File "
   ]
  },
  {
   "cell_type": "code",
   "execution_count": 28,
   "id": "6c68b7de-11e0-4d45-a890-bd9c21c1cf11",
   "metadata": {},
   "outputs": [
    {
     "name": "stderr",
     "output_type": "stream",
     "text": [
      "/Users/gwenchee/mambaforge3/lib/python3.9/site-packages/deap/creator.py:138: RuntimeWarning: A class named 'obj' has already been created and it will be overwritten. Consider deleting previous creation of that class or rename it.\n",
      "  warnings.warn(\"A class named '{0}' has already been created and it \"\n",
      "/Users/gwenchee/mambaforge3/lib/python3.9/site-packages/deap/creator.py:138: RuntimeWarning: A class named 'Ind' has already been created and it will be overwritten. Consider deleting previous creation of that class or rename it.\n",
      "  warnings.warn(\"A class named '{0}' has already been created and it \"\n"
     ]
    }
   ],
   "source": [
    "import pickle \n",
    "import numpy as np\n",
    "from deap import creator, base, tools\n",
    "import deap.benchmarks.tools as bt\n",
    "import matplotlib.pyplot as plt\n",
    "\n",
    "creator.create(\"obj\", base.Fitness, weights=(-1.0,-1.0))\n",
    "creator.create(\"Ind\", list, fitness=creator.obj)\n",
    "\n",
    "checkpoint_file = \"checkpoint.pkl\"\n",
    "with open(checkpoint_file, \"rb\") as cp_file:\n",
    "    cp = pickle.load(cp_file)"
   ]
  },
  {
   "cell_type": "markdown",
   "id": "4f579bb8-3e1d-4573-b0f7-d182269c38b2",
   "metadata": {},
   "source": [
    "## ROLLO's hypervolume value increases with each generation, showing that the individuals found by ROLLO gets closer and closer to the ideal Pareto Front. "
   ]
  },
  {
   "cell_type": "code",
   "execution_count": 34,
   "id": "a8c2b8f0-e25c-46d9-ab70-a8ea11fecc9e",
   "metadata": {},
   "outputs": [
    {
     "name": "stdout",
     "output_type": "stream",
     "text": [
      "Generation: 0 , Hypervolume: 4234.966893909506\n",
      "Generation: 1 , Hypervolume: 4267.310408321268\n",
      "Generation: 2 , Hypervolume: 4294.974232379019\n",
      "Generation: 3 , Hypervolume: 4320.480306090323\n",
      "Generation: 4 , Hypervolume: 4325.929858749723\n"
     ]
    }
   ],
   "source": [
    "results = cp[\"all\"]\n",
    "ref = np.array([120,50])\n",
    "for i, pop in enumerate(results[\"populations\"]):\n",
    "    non_dom = tools.sortNondominated(pop, k=len(pop), first_front_only=True)[0]\n",
    "    for ind in non_dom:\n",
    "        ind.fitness.values = (ind.fitness.values[0], ind.fitness.values[1])\n",
    "    hypervol = bt.hypervolume(non_dom, ref)\n",
    "    print(\"Generation:\", i, \", Hypervolume:\", hypervol)"
   ]
  },
  {
   "cell_type": "code",
   "execution_count": 43,
   "id": "b1d63a79-7496-4431-a413-a11ee5fb7528",
   "metadata": {},
   "outputs": [
    {
     "data": {
      "text/plain": [
       "Text(0, 0.5, '$f_1(x_1, x_2)$')"
      ]
     },
     "execution_count": 43,
     "metadata": {},
     "output_type": "execute_result"
    },
    {
     "data": {
      "image/png": "[encoded data removed]",
      "text/plain": [
       "<Figure size 576x576 with 1 Axes>"
      ]
     },
     "metadata": {
      "needs_background": "light"
     },
     "output_type": "display_data"
    }
   ],
   "source": [
    "results = cp[\"all\"]\n",
    "pop = results[\"populations\"][-1]\n",
    "non_dom = tools.sortNondominated(pop, k=len(pop), first_front_only=True)[0]\n",
    "all_pop = []\n",
    "for p in results[\"populations\"]:\n",
    "    for i in p:\n",
    "        all_pop.append(i)\n",
    "non_dom_all = tools.sortNondominated(all_pop, k=len(all_pop), first_front_only=True)[0]\n",
    "\n",
    "fig, ax = plt.subplots(figsize=(8,8))\n",
    "count1, count2 = 0, 0\n",
    "for ind in all_pop:\n",
    "    if count1 == 0:\n",
    "        ax.plot(ind.fitness.values[0], ind.fitness.values[1], 'k.', ms=5, alpha=0.5, label=\"reactor models\")\n",
    "        count1 += 1\n",
    "    else:\n",
    "        ax.plot(ind.fitness.values[0], ind.fitness.values[1], 'k.', ms=5, alpha=0.5)\n",
    "for ind in non_dom_all:\n",
    "    if count2 == 0:\n",
    "        ax.plot(ind.fitness.values[0], ind.fitness.values[1], 'rx', alpha=0.74, ms=8, label=\"reactor models on pareto front\")\n",
    "        count2 += 1\n",
    "    else:\n",
    "        ax.plot(ind.fitness.values[0], ind.fitness.values[1], 'rx', alpha=0.74, ms=8)\n",
    "ax.set_title('ROLLO Final Generation Pareto Front',fontsize=24)\n",
    "ax.grid()\n",
    "ax.set_xlim([0,140])\n",
    "ax.set_ylim([0,50])\n",
    "handles, labels = ax.get_legend_handles_labels()\n",
    "ax.legend(handles, labels, fontsize=20, bbox_to_anchor = [1.0, 1.0])\n",
    "ax.set_ylabel(\"$f_2(x_1, x_2)$\", fontsize=20)\n",
    "ax.set_ylabel(\"$f_1(x_1, x_2)$\", fontsize=20)"
   ]
  },
  {
   "cell_type": "markdown",
   "id": "42783c3e-65bd-40f3-8af8-e038b0929e58",
   "metadata": {},
   "source": [
    "# ROLLO's final generation successfully found a set of widely spread out individuals on the Binh and Korn's Pareto Front. "
   ]
  }
 ],
 "metadata": {
  "kernelspec": {
   "display_name": "Python 3 (ipykernel)",
   "language": "python",
   "name": "python3"
  },
  "language_info": {
   "codemirror_mode": {
    "name": "ipython",
    "version": 3
   },
   "file_extension": ".py",
   "mimetype": "text/x-python",
   "name": "python",
   "nbconvert_exporter": "python",
   "pygments_lexer": "ipython3",
   "version": "3.9.10"
  }
 },
 "nbformat": 4,
 "nbformat_minor": 5
}
