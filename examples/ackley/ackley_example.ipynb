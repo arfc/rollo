{
 "cells": [
  {
   "cell_type": "markdown",
   "id": "0b0cbe82-c340-4a80-bfb2-92f9030410de",
   "metadata": {},
   "source": [
    "# Verification Example: Single-Objective \n",
    "This notebook contains a verification study to verify ROLLO's optimization capabilities. \n",
    "The Ackley function is a commonly used evolutionary algorithm single objective benchmark problem. "
   ]
  },
  {
   "cell_type": "markdown",
   "id": "8abc528b-cde4-476f-a2c2-12dda7ac69f5",
   "metadata": {},
   "source": [
    "## Ackley Function \n",
    "\n",
    "The [Ackley Function](https://www.sfu.ca/~ssurjano/ackley.html) is a non-convex \n",
    "function, commonly used as a performance test for single-objective optimization \n",
    "algorithms:\n",
    "\n",
    "$f(x) = -a \\cdot exp \\left(-b\\sqrt{\\frac{1}{d}\\Sigma_{i=1}^dx_i^2}\\right) - exp \\left(\\frac{1}{d}\\Sigma_{i=1}^d cos(cx_i)\\right) + a + exp(1)$\n",
    "\n",
    "The recommended variable values are a = 20, b = 0.2, and c = 2π. The Ackley function’s global minimum point is f (0, 0) = 0. The figure below shows the resulting two-variable Ackley function (taken from [here](https://www.sfu.ca/~ssurjano/ackley.html)):\n",
    "\n",
    "![Ackley](ackley.png)"
   ]
  },
  {
   "cell_type": "markdown",
   "id": "1e51173b-b2fc-4e1c-a738-c11362bb820e",
   "metadata": {},
   "source": [
    "The ROLLO optimization simulation is succcessful if it gets close to finding the minimum point at f(0,0) = 0"
   ]
  },
  {
   "cell_type": "markdown",
   "id": "90d91a1a-1e98-4bde-8eea-b0b844447936",
   "metadata": {},
   "source": [
    "## ROLLO Input File \n",
    "\n",
    "ROLLO varies `x1` and `x2` control variables to minimize the `ackley` output parameter. The ackley function calculation occurs in `ackley_calculation.py`"
   ]
  },
  {
   "cell_type": "code",
   "execution_count": 1,
   "id": "163f52d4-7abb-4ba2-99c6-004b09b7e6ab",
   "metadata": {},
   "outputs": [],
   "source": [
    "rollo_input_file = open(\"ackley_optimization.json\", \"w\")\n",
    "rollo_input_file.write(\"\"\"{\n",
    "        \"control_variables\": {\n",
    "            \"x1\": {\"min\": -32.768, \"max\": 32.768},\n",
    "            \"x2\": {\"min\": -32.768, \"max\": 32.768}\n",
    "        },\n",
    "        \"evaluators\": {\n",
    "            \"ackley_evaluator\": {\n",
    "                \"order\": 0,\n",
    "                \"input_script\": [\"python\", \"ackley_calculation.py\"],\n",
    "                \"inputs\": [\"x1\", \"x2\"],\n",
    "                \"output_script\": [\"python\", \"get_ackley_output.py\"],\n",
    "                \"outputs\": [\"ackley\"]\n",
    "            }\n",
    "        },\n",
    "        \"constraints\": {},\n",
    "        \"algorithm\": {\n",
    "            \"objective\": [\"min\"],\n",
    "            \"weight\": [1.0],\n",
    "            \"optimized_variable\": [\"ackley\"],\n",
    "            \"pop_size\": 100,\n",
    "            \"generations\": 10,\n",
    "            \"parallel\": \"none\",\n",
    "            \"keep_files\": \"none\"\n",
    "        }\n",
    "    }\n",
    "\"\"\")\n",
    "rollo_input_file.close()"
   ]
  },
  {
   "cell_type": "markdown",
   "id": "babc4a42-6c9f-4b2a-ab2d-2b195fccf496",
   "metadata": {},
   "source": [
    "## ROLLO `ackley_calculation.py` input script to calculate ackley function value. "
   ]
  },
  {
   "cell_type": "code",
   "execution_count": 2,
   "id": "370cf3f6-6d56-49d5-9b4c-5186c4f5d1e4",
   "metadata": {},
   "outputs": [],
   "source": [
    "ackley_calculation = open(\"ackley_calculation.py\", \"w\")\n",
    "ackley_calculation.write(\"\"\"\n",
    "import numpy as np\n",
    "\n",
    "x1 = {{x1}}\n",
    "x2 = {{x2}}\n",
    "ackley = (\n",
    "    -20 * np.exp(-0.2 * np.sqrt(1 / 2 * (x1 ** 2 + x2 ** 2)))\n",
    "    - np.exp(1 / 2 * (np.cos(2 * np.pi * x1) + np.cos(2 * np.pi * x2)))\n",
    "    + 20\n",
    "    + np.exp(1)\n",
    ")\n",
    "\n",
    "print(ackley)\n",
    "\"\"\")\n",
    "ackley_calculation.close()"
   ]
  },
  {
   "cell_type": "markdown",
   "id": "64026ce4-a189-452e-af11-c1c029d13c4d",
   "metadata": {},
   "source": [
    "## get_ackley_output.py to return ackley function value to ROLLO. "
   ]
  },
  {
   "cell_type": "code",
   "execution_count": 3,
   "id": "9aa02ef5-607b-4f31-994f-aadc6172e7fe",
   "metadata": {},
   "outputs": [],
   "source": [
    "ackley_output = open(\"get_ackley_output.py\", \"w\")\n",
    "ackley_output.write(\"\"\"\n",
    "import numpy as np\n",
    "import ast\n",
    "\n",
    "with open(\"ackley_evaluator_input_script_out.txt\") as file:\n",
    "    contents = file.read()\n",
    "ackley = ast.literal_eval(contents)\n",
    "print({\"ackley\": ackley})\n",
    "\"\"\")\n",
    "ackley_output.close()"
   ]
  },
  {
   "cell_type": "markdown",
   "id": "cc20ddda-111e-460e-bfd9-a69bc5701ed3",
   "metadata": {},
   "source": [
    "## Run ROLLO Optimization "
   ]
  },
  {
   "cell_type": "code",
   "execution_count": 1,
   "id": "1a560a4a-d199-4c2f-9b2e-4e986ac4a7cd",
   "metadata": {},
   "outputs": [
    {
     "name": "stderr",
     "output_type": "stream",
     "text": [
      "WARNING:root: ROLLO added default for variable: mutation_probability, default value = 0.23\n",
      "WARNING:root: ROLLO added default for variable: mating_probability, default value = 0.47\n",
      "WARNING:root: ROLLO added default for variable: selection_operator, default value = {'operator': 'selTournament', 'tournsize': 5}\n",
      "WARNING:root: ROLLO added default for variable: mutation_operator, default value = {'operator': 'mutPolynomialBounded', 'eta': 0.23, 'indpb': 0.23}\n",
      "WARNING:root: ROLLO added default for variable: mating_operator, default value = {'operator': 'cxBlend', 'alpha': 0.46}\n",
      "WARNING:root: parallel method = none\n",
      "WARNING:root: 0 out of 100 inds were constrained\n",
      "WARNING:root: 0 out of 100 inds were constrained\n",
      "WARNING:root: 0 out of 100 inds were constrained\n",
      "WARNING:root: 0 out of 100 inds were constrained\n",
      "WARNING:root: 0 out of 100 inds were constrained\n",
      "WARNING:root: 0 out of 100 inds were constrained\n",
      "WARNING:root: 0 out of 100 inds were constrained\n",
      "WARNING:root: 0 out of 100 inds were constrained\n",
      "WARNING:root: 0 out of 100 inds were constrained\n"
     ]
    },
    {
     "name": "stdout",
     "output_type": "stream",
     "text": [
      "Entering generation 0...\n",
      "       \t   \t     \t                             oup                             \t                                           ind                                           \n",
      "       \t   \t     \t-------------------------------------------------------------\t-----------------------------------------------------------------------------------------\n",
      "time   \tgen\tevals\tavg          \tstd         \tmin         \tmax          \tavg                      \tmin                        \tmax                      \n",
      "73.4602\t0  \t100  \t[19.88579155]\t[3.01409502]\t[4.47591915]\t[22.19392604]\t[ 1.81615339 -3.97441961]\t[-32.63248544 -32.01748723]\t[32.10303698 32.31023848]\n",
      "Entering generation 1...\n",
      "       \t   \t     \t                             oup                             \t                                           ind                                           \n",
      "       \t   \t     \t-------------------------------------------------------------\t-----------------------------------------------------------------------------------------\n",
      "time   \tgen\tevals\tavg          \tstd         \tmin         \tmax          \tavg                      \tmin                        \tmax                      \n",
      "73.4602\t0  \t100  \t[19.88579155]\t[3.01409502]\t[4.47591915]\t[22.19392604]\t[ 1.81615339 -3.97441961]\t[-32.63248544 -32.01748723]\t[32.10303698 32.31023848]\n",
      "125.821\t1  \t71   \t[15.06412407]\t[5.0647681] \t[4.47591915]\t[21.34421947]\t[ 1.99921474 -5.6970484 ]\t[-29.11053516 -32.01748723]\t[23.90985526 27.90730454]\n",
      "Entering generation 2...\n",
      "       \t   \t     \t                             oup                             \t                                           ind                                           \n",
      "       \t   \t     \t-------------------------------------------------------------\t-----------------------------------------------------------------------------------------\n",
      "time   \tgen\tevals\tavg          \tstd         \tmin         \tmax          \tavg                      \tmin                        \tmax                      \n",
      "73.4602\t0  \t100  \t[19.88579155]\t[3.01409502]\t[4.47591915]\t[22.19392604]\t[ 1.81615339 -3.97441961]\t[-32.63248544 -32.01748723]\t[32.10303698 32.31023848]\n",
      "125.821\t1  \t71   \t[15.06412407]\t[5.0647681] \t[4.47591915]\t[21.34421947]\t[ 1.99921474 -5.6970484 ]\t[-29.11053516 -32.01748723]\t[23.90985526 27.90730454]\n",
      "162.723\t2  \t50   \t[8.83138376] \t[3.7471251] \t[4.47591915]\t[17.88998428]\t[ 0.11802455 -0.64026669]\t[ -8.27573321 -11.15671014]\t[8.42747974 7.18639607]  \n",
      "Entering generation 3...\n",
      "       \t   \t     \t                             oup                             \t                                           ind                                           \n",
      "       \t   \t     \t-------------------------------------------------------------\t-----------------------------------------------------------------------------------------\n",
      "time   \tgen\tevals\tavg          \tstd         \tmin         \tmax          \tavg                      \tmin                        \tmax                      \n",
      "73.4602\t0  \t100  \t[19.88579155]\t[3.01409502]\t[4.47591915]\t[22.19392604]\t[ 1.81615339 -3.97441961]\t[-32.63248544 -32.01748723]\t[32.10303698 32.31023848]\n",
      "125.821\t1  \t71   \t[15.06412407]\t[5.0647681] \t[4.47591915]\t[21.34421947]\t[ 1.99921474 -5.6970484 ]\t[-29.11053516 -32.01748723]\t[23.90985526 27.90730454]\n",
      "162.723\t2  \t50   \t[8.83138376] \t[3.7471251] \t[4.47591915]\t[17.88998428]\t[ 0.11802455 -0.64026669]\t[ -8.27573321 -11.15671014]\t[8.42747974 7.18639607]  \n",
      "208.708\t3  \t60   \t[4.81615132] \t[1.12178015]\t[2.97233974]\t[9.99151736] \t[-0.54129956 -0.18144773]\t[-2.54312231 -1.71645289]  \t[2.23834223 4.00217208]  \n",
      "Entering generation 4...\n",
      "       \t   \t     \t                             oup                             \t                                           ind                                           \n",
      "       \t   \t     \t-------------------------------------------------------------\t-----------------------------------------------------------------------------------------\n",
      "time   \tgen\tevals\tavg          \tstd         \tmin         \tmax          \tavg                      \tmin                        \tmax                      \n",
      "73.4602\t0  \t100  \t[19.88579155]\t[3.01409502]\t[4.47591915]\t[22.19392604]\t[ 1.81615339 -3.97441961]\t[-32.63248544 -32.01748723]\t[32.10303698 32.31023848]\n",
      "125.821\t1  \t71   \t[15.06412407]\t[5.0647681] \t[4.47591915]\t[21.34421947]\t[ 1.99921474 -5.6970484 ]\t[-29.11053516 -32.01748723]\t[23.90985526 27.90730454]\n",
      "162.723\t2  \t50   \t[8.83138376] \t[3.7471251] \t[4.47591915]\t[17.88998428]\t[ 0.11802455 -0.64026669]\t[ -8.27573321 -11.15671014]\t[8.42747974 7.18639607]  \n",
      "208.708\t3  \t60   \t[4.81615132] \t[1.12178015]\t[2.97233974]\t[9.99151736] \t[-0.54129956 -0.18144773]\t[-2.54312231 -1.71645289]  \t[2.23834223 4.00217208]  \n",
      "255.994\t4  \t62   \t[3.90209195] \t[0.71224397]\t[2.76538461]\t[4.47591915] \t[-0.32224039 -0.19956738]\t[-0.94193589 -0.65936089]  \t[1.05519472 1.03261235]  \n",
      "Entering generation 5...\n",
      "       \t   \t     \t                             oup                             \t                                           ind                                           \n",
      "       \t   \t     \t-------------------------------------------------------------\t-----------------------------------------------------------------------------------------\n",
      "time   \tgen\tevals\tavg          \tstd         \tmin         \tmax          \tavg                      \tmin                        \tmax                      \n",
      "73.4602\t0  \t100  \t[19.88579155]\t[3.01409502]\t[4.47591915]\t[22.19392604]\t[ 1.81615339 -3.97441961]\t[-32.63248544 -32.01748723]\t[32.10303698 32.31023848]\n",
      "125.821\t1  \t71   \t[15.06412407]\t[5.0647681] \t[4.47591915]\t[21.34421947]\t[ 1.99921474 -5.6970484 ]\t[-29.11053516 -32.01748723]\t[23.90985526 27.90730454]\n",
      "162.723\t2  \t50   \t[8.83138376] \t[3.7471251] \t[4.47591915]\t[17.88998428]\t[ 0.11802455 -0.64026669]\t[ -8.27573321 -11.15671014]\t[8.42747974 7.18639607]  \n",
      "208.708\t3  \t60   \t[4.81615132] \t[1.12178015]\t[2.97233974]\t[9.99151736] \t[-0.54129956 -0.18144773]\t[-2.54312231 -1.71645289]  \t[2.23834223 4.00217208]  \n",
      "255.994\t4  \t62   \t[3.90209195] \t[0.71224397]\t[2.76538461]\t[4.47591915] \t[-0.32224039 -0.19956738]\t[-0.94193589 -0.65936089]  \t[1.05519472 1.03261235]  \n",
      "306.679\t5  \t67   \t[3.01658624] \t[0.69931592]\t[0.73970022]\t[4.47591915] \t[0.05535524 0.05604787]  \t[-1.03681844 -0.78333565]  \t[1.05519472 1.03261235]  \n",
      "Entering generation 6...\n",
      "       \t   \t     \t                             oup                             \t                                           ind                                           \n",
      "       \t   \t     \t-------------------------------------------------------------\t-----------------------------------------------------------------------------------------\n",
      "time   \tgen\tevals\tavg          \tstd         \tmin         \tmax          \tavg                      \tmin                        \tmax                      \n",
      "73.4602\t0  \t100  \t[19.88579155]\t[3.01409502]\t[4.47591915]\t[22.19392604]\t[ 1.81615339 -3.97441961]\t[-32.63248544 -32.01748723]\t[32.10303698 32.31023848]\n",
      "125.821\t1  \t71   \t[15.06412407]\t[5.0647681] \t[4.47591915]\t[21.34421947]\t[ 1.99921474 -5.6970484 ]\t[-29.11053516 -32.01748723]\t[23.90985526 27.90730454]\n",
      "162.723\t2  \t50   \t[8.83138376] \t[3.7471251] \t[4.47591915]\t[17.88998428]\t[ 0.11802455 -0.64026669]\t[ -8.27573321 -11.15671014]\t[8.42747974 7.18639607]  \n",
      "208.708\t3  \t60   \t[4.81615132] \t[1.12178015]\t[2.97233974]\t[9.99151736] \t[-0.54129956 -0.18144773]\t[-2.54312231 -1.71645289]  \t[2.23834223 4.00217208]  \n",
      "255.994\t4  \t62   \t[3.90209195] \t[0.71224397]\t[2.76538461]\t[4.47591915] \t[-0.32224039 -0.19956738]\t[-0.94193589 -0.65936089]  \t[1.05519472 1.03261235]  \n",
      "306.679\t5  \t67   \t[3.01658624] \t[0.69931592]\t[0.73970022]\t[4.47591915] \t[0.05535524 0.05604787]  \t[-1.03681844 -0.78333565]  \t[1.05519472 1.03261235]  \n",
      "347.301\t6  \t53   \t[2.1023259]  \t[0.8933931] \t[0.71573638]\t[2.97233974] \t[0.03897266 0.09171229]  \t[-0.41029916 -0.25757499]  \t[0.45188797 1.03261235]  \n",
      "Entering generation 7...\n",
      "       \t   \t     \t                             oup                             \t                                           ind                                           \n",
      "       \t   \t     \t-------------------------------------------------------------\t-----------------------------------------------------------------------------------------\n",
      "time   \tgen\tevals\tavg          \tstd         \tmin         \tmax          \tavg                      \tmin                        \tmax                      \n",
      "73.4602\t0  \t100  \t[19.88579155]\t[3.01409502]\t[4.47591915]\t[22.19392604]\t[ 1.81615339 -3.97441961]\t[-32.63248544 -32.01748723]\t[32.10303698 32.31023848]\n",
      "125.821\t1  \t71   \t[15.06412407]\t[5.0647681] \t[4.47591915]\t[21.34421947]\t[ 1.99921474 -5.6970484 ]\t[-29.11053516 -32.01748723]\t[23.90985526 27.90730454]\n",
      "162.723\t2  \t50   \t[8.83138376] \t[3.7471251] \t[4.47591915]\t[17.88998428]\t[ 0.11802455 -0.64026669]\t[ -8.27573321 -11.15671014]\t[8.42747974 7.18639607]  \n",
      "208.708\t3  \t60   \t[4.81615132] \t[1.12178015]\t[2.97233974]\t[9.99151736] \t[-0.54129956 -0.18144773]\t[-2.54312231 -1.71645289]  \t[2.23834223 4.00217208]  \n",
      "255.994\t4  \t62   \t[3.90209195] \t[0.71224397]\t[2.76538461]\t[4.47591915] \t[-0.32224039 -0.19956738]\t[-0.94193589 -0.65936089]  \t[1.05519472 1.03261235]  \n",
      "306.679\t5  \t67   \t[3.01658624] \t[0.69931592]\t[0.73970022]\t[4.47591915] \t[0.05535524 0.05604787]  \t[-1.03681844 -0.78333565]  \t[1.05519472 1.03261235]  \n",
      "347.301\t6  \t53   \t[2.1023259]  \t[0.8933931] \t[0.71573638]\t[2.97233974] \t[0.03897266 0.09171229]  \t[-0.41029916 -0.25757499]  \t[0.45188797 1.03261235]  \n",
      "387.642\t7  \t52   \t[1.08273716] \t[0.6479382] \t[0.08877901]\t[2.96080613] \t[-0.04000085  0.01380658]\t[-0.41029916 -0.25757499]  \t[0.36069311 0.25665745]  \n",
      "Entering generation 8...\n",
      "       \t   \t     \t                             oup                             \t                                           ind                                           \n",
      "       \t   \t     \t-------------------------------------------------------------\t-----------------------------------------------------------------------------------------\n",
      "time   \tgen\tevals\tavg          \tstd         \tmin         \tmax          \tavg                      \tmin                        \tmax                      \n",
      "73.4602\t0  \t100  \t[19.88579155]\t[3.01409502]\t[4.47591915]\t[22.19392604]\t[ 1.81615339 -3.97441961]\t[-32.63248544 -32.01748723]\t[32.10303698 32.31023848]\n",
      "125.821\t1  \t71   \t[15.06412407]\t[5.0647681] \t[4.47591915]\t[21.34421947]\t[ 1.99921474 -5.6970484 ]\t[-29.11053516 -32.01748723]\t[23.90985526 27.90730454]\n",
      "162.723\t2  \t50   \t[8.83138376] \t[3.7471251] \t[4.47591915]\t[17.88998428]\t[ 0.11802455 -0.64026669]\t[ -8.27573321 -11.15671014]\t[8.42747974 7.18639607]  \n",
      "208.708\t3  \t60   \t[4.81615132] \t[1.12178015]\t[2.97233974]\t[9.99151736] \t[-0.54129956 -0.18144773]\t[-2.54312231 -1.71645289]  \t[2.23834223 4.00217208]  \n",
      "255.994\t4  \t62   \t[3.90209195] \t[0.71224397]\t[2.76538461]\t[4.47591915] \t[-0.32224039 -0.19956738]\t[-0.94193589 -0.65936089]  \t[1.05519472 1.03261235]  \n",
      "306.679\t5  \t67   \t[3.01658624] \t[0.69931592]\t[0.73970022]\t[4.47591915] \t[0.05535524 0.05604787]  \t[-1.03681844 -0.78333565]  \t[1.05519472 1.03261235]  \n",
      "347.301\t6  \t53   \t[2.1023259]  \t[0.8933931] \t[0.71573638]\t[2.97233974] \t[0.03897266 0.09171229]  \t[-0.41029916 -0.25757499]  \t[0.45188797 1.03261235]  \n",
      "387.642\t7  \t52   \t[1.08273716] \t[0.6479382] \t[0.08877901]\t[2.96080613] \t[-0.04000085  0.01380658]\t[-0.41029916 -0.25757499]  \t[0.36069311 0.25665745]  \n",
      "429.461\t8  \t55   \t[0.59866048] \t[0.22910007]\t[0.08877901]\t[0.9050318]  \t[-0.0127733   0.01835315]\t[-0.12249389 -0.07083414]  \t[0.10858667 0.08160471]  \n",
      "Entering generation 9...\n",
      "       \t   \t     \t                             oup                             \t                                           ind                                           \n",
      "       \t   \t     \t-------------------------------------------------------------\t-----------------------------------------------------------------------------------------\n",
      "time   \tgen\tevals\tavg          \tstd         \tmin         \tmax          \tavg                      \tmin                        \tmax                      \n",
      "73.4602\t0  \t100  \t[19.88579155]\t[3.01409502]\t[4.47591915]\t[22.19392604]\t[ 1.81615339 -3.97441961]\t[-32.63248544 -32.01748723]\t[32.10303698 32.31023848]\n",
      "125.821\t1  \t71   \t[15.06412407]\t[5.0647681] \t[4.47591915]\t[21.34421947]\t[ 1.99921474 -5.6970484 ]\t[-29.11053516 -32.01748723]\t[23.90985526 27.90730454]\n",
      "162.723\t2  \t50   \t[8.83138376] \t[3.7471251] \t[4.47591915]\t[17.88998428]\t[ 0.11802455 -0.64026669]\t[ -8.27573321 -11.15671014]\t[8.42747974 7.18639607]  \n",
      "208.708\t3  \t60   \t[4.81615132] \t[1.12178015]\t[2.97233974]\t[9.99151736] \t[-0.54129956 -0.18144773]\t[-2.54312231 -1.71645289]  \t[2.23834223 4.00217208]  \n",
      "255.994\t4  \t62   \t[3.90209195] \t[0.71224397]\t[2.76538461]\t[4.47591915] \t[-0.32224039 -0.19956738]\t[-0.94193589 -0.65936089]  \t[1.05519472 1.03261235]  \n",
      "306.679\t5  \t67   \t[3.01658624] \t[0.69931592]\t[0.73970022]\t[4.47591915] \t[0.05535524 0.05604787]  \t[-1.03681844 -0.78333565]  \t[1.05519472 1.03261235]  \n",
      "347.301\t6  \t53   \t[2.1023259]  \t[0.8933931] \t[0.71573638]\t[2.97233974] \t[0.03897266 0.09171229]  \t[-0.41029916 -0.25757499]  \t[0.45188797 1.03261235]  \n",
      "387.642\t7  \t52   \t[1.08273716] \t[0.6479382] \t[0.08877901]\t[2.96080613] \t[-0.04000085  0.01380658]\t[-0.41029916 -0.25757499]  \t[0.36069311 0.25665745]  \n",
      "429.461\t8  \t55   \t[0.59866048] \t[0.22910007]\t[0.08877901]\t[0.9050318]  \t[-0.0127733   0.01835315]\t[-0.12249389 -0.07083414]  \t[0.10858667 0.08160471]  \n",
      "482.684\t9  \t66   \t[0.37117985] \t[0.25610561]\t[0.0289846] \t[0.73970022] \t[0.009491   0.01195302]  \t[-0.1097746  -0.07083414]  \t[0.11390193 0.08160471]  \n",
      "rollo Simulation Completed!\n",
      "Total time in simulation 482.69 seconds\n"
     ]
    },
    {
     "name": "stderr",
     "output_type": "stream",
     "text": [
      "WARNING:root: 0 out of 100 inds were constrained\n"
     ]
    },
    {
     "data": {
      "text/plain": [
       "0"
      ]
     },
     "execution_count": 1,
     "metadata": {},
     "output_type": "execute_result"
    }
   ],
   "source": [
    "import subprocess \n",
    "\n",
    "subprocess.call(\"python -m rollo -i ackley_optimization.json\", shell=True)"
   ]
  },
  {
   "cell_type": "markdown",
   "id": "7d2d6617-99b5-4096-9867-27b6be349785",
   "metadata": {},
   "source": [
    "## Analyze Results Checkpoint File "
   ]
  },
  {
   "cell_type": "code",
   "execution_count": 2,
   "id": "6234c0ce-7fe0-4ab6-8eff-e3a3c9c639b0",
   "metadata": {},
   "outputs": [],
   "source": [
    "import pickle \n",
    "import numpy as np\n",
    "from deap import creator, base\n",
    "\n",
    "creator.create(\"obj\", base.Fitness, weights=(1.0,))\n",
    "creator.create(\"Ind\", list, fitness=creator.obj)\n",
    "\n",
    "with open(\"checkpoint.pkl\", \"rb\") as cp_file:\n",
    "    cp = pickle.load(cp_file)\n",
    "\n",
    "logbook = cp[\"all\"]"
   ]
  },
  {
   "cell_type": "code",
   "execution_count": 3,
   "id": "73d0dabe-1419-4df2-b7d9-1041868f899f",
   "metadata": {},
   "outputs": [
    {
     "name": "stdout",
     "output_type": "stream",
     "text": [
      "Ackley Function Value: 0.028984601622326966 , (x,y):  [0.009161366351092734, 0.0021656873447607992]\n"
     ]
    }
   ],
   "source": [
    "final_gen = logbook[\"populations\"][-1]\n",
    "final_gen_ackley_values = np.array([ind.output[0] for ind in final_gen])\n",
    "final_gen_ackley_sort = np.argsort(final_gen_ackley_values)[0]\n",
    "\n",
    "# final generation, individual with smallest ackley function value: \n",
    "print(\"Ackley Function Value:\", final_gen_ackley_values[final_gen_ackley_sort], ', (x,y): ', final_gen[final_gen_ackley_sort])"
   ]
  },
  {
   "cell_type": "markdown",
   "id": "356e3f87-fcd9-454a-adcc-6b4737291fe3",
   "metadata": {},
   "source": [
    "# ROLLO successfully found the minimum point of the ackley function. "
   ]
  },
  {
   "cell_type": "code",
   "execution_count": null,
   "id": "33b3b839-47ba-4459-9e90-01ffdba0a9b3",
   "metadata": {},
   "outputs": [],
   "source": []
  }
 ],
 "metadata": {
  "kernelspec": {
   "display_name": "Python 3 (ipykernel)",
   "language": "python",
   "name": "python3"
  },
  "language_info": {
   "codemirror_mode": {
    "name": "ipython",
    "version": 3
   },
   "file_extension": ".py",
   "mimetype": "text/x-python",
   "name": "python",
   "nbconvert_exporter": "python",
   "pygments_lexer": "ipython3",
   "version": "3.9.10"
  }
 },
 "nbformat": 4,
 "nbformat_minor": 5
}
