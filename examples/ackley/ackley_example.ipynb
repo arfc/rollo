{
 "cells": [
  {
   "cell_type": "markdown",
   "id": "0b0cbe82-c340-4a80-bfb2-92f9030410de",
   "metadata": {},
   "source": [
    "# Verification Example \n",
    "This notebook contains a verification study to verify ROLLO's optimization capabilities. \n",
    "The Ackley function is a commonly used evolutionary algorithm single objective benchmark problem. "
   ]
  },
  {
   "cell_type": "markdown",
   "id": "8abc528b-cde4-476f-a2c2-12dda7ac69f5",
   "metadata": {},
   "source": [
    "## Ackley Function \n",
    "The [Ackley Function](https://www.sfu.ca/~ssurjano/ackley.html) is a non-convex \n",
    "function, commonly used as a performance test for single-objective optimization \n",
    "algorithms:\n",
    "\n",
    "$f(x) = -a \\cdot exp \\left(-b\\sqrt{\\frac{1}{d}\\Sigma_{i=1}^dx_i^2}\\right) - exp \\left(\\frac{1}{d}\\Sigma_{i=1}^d cos(cx_i)\\right) + a + exp(1)$\n",
    "\n",
    "The recommended variable values are a = 20, b = 0.2, and c = 2π. The Ackley function’s global minimum point is f (0, 0) = 0. The figure below shows the resulting two-variable Ackley function (taken from [here](https://www.sfu.ca/~ssurjano/ackley.html)):\n",
    "\n",
    "![Ackley](ackley.png)"
   ]
  },
  {
   "cell_type": "markdown",
   "id": "1e51173b-b2fc-4e1c-a738-c11362bb820e",
   "metadata": {},
   "source": [
    "The ROLLO optimization simulation is succcessful if it gets close to finding the minimum point at f(0,0) = 0"
   ]
  },
  {
   "cell_type": "markdown",
   "id": "90d91a1a-1e98-4bde-8eea-b0b844447936",
   "metadata": {},
   "source": [
    "## ROLLO Input File \n",
    "\n",
    "ROLLO varies `x1` and `x2` control variables to minimize the `ackley` output parameter. The ackley function calculation occurs in `ackley_calculation.py`"
   ]
  },
  {
   "cell_type": "code",
   "execution_count": 25,
   "id": "163f52d4-7abb-4ba2-99c6-004b09b7e6ab",
   "metadata": {},
   "outputs": [],
   "source": [
    "rollo_input_file = open(\"ackley_optimization.json\", \"w\")\n",
    "rollo_input_file.write(\"\"\"{\n",
    "        \"control_variables\": {\n",
    "            \"x1\": {\"min\": -32.768, \"max\": 32.768},\n",
    "            \"x2\": {\"min\": -32.768, \"max\": 32.768}\n",
    "        },\n",
    "        \"evaluators\": {\n",
    "            \"ackley_evaluator\": {\n",
    "                \"order\": 0,\n",
    "                \"input_script\": [\"python\", \"ackley_calculation.py\"],\n",
    "                \"inputs\": [\"x1\", \"x2\"],\n",
    "                \"output_script\": [\"python\", \"get_ackley_output.py\"],\n",
    "                \"outputs\": [\"ackley\"]\n",
    "            }\n",
    "        },\n",
    "        \"constraints\": {},\n",
    "        \"algorithm\": {\n",
    "            \"objective\": [\"min\"],\n",
    "            \"weight\": [1.0],\n",
    "            \"optimized_variable\": [\"ackley\"],\n",
    "            \"pop_size\": 100,\n",
    "            \"generations\": 10,\n",
    "            \"parallel\": \"none\",\n",
    "            \"keep_files\": \"none\"\n",
    "        }\n",
    "    }\n",
    "\"\"\")\n",
    "rollo_input_file.close()"
   ]
  },
  {
   "cell_type": "markdown",
   "id": "babc4a42-6c9f-4b2a-ab2d-2b195fccf496",
   "metadata": {},
   "source": [
    "## ROLLO `ackley_calculation.py` input script to calculate ackley function value. "
   ]
  },
  {
   "cell_type": "code",
   "execution_count": 26,
   "id": "370cf3f6-6d56-49d5-9b4c-5186c4f5d1e4",
   "metadata": {},
   "outputs": [],
   "source": [
    "ackley_calculation = open(\"ackley_calculation.py\", \"w\")\n",
    "ackley_calculation.write(\"\"\"\n",
    "import numpy as np\n",
    "\n",
    "x1 = {{x1}}\n",
    "x2 = {{x2}}\n",
    "ackley = (\n",
    "    -20 * np.exp(-0.2 * np.sqrt(1 / 2 * (x1 ** 2 + x2 ** 2)))\n",
    "    - np.exp(1 / 2 * (np.cos(2 * np.pi * x1) + np.cos(2 * np.pi * x2)))\n",
    "    + 20\n",
    "    + np.exp(1)\n",
    ")\n",
    "\n",
    "print(ackley)\n",
    "\"\"\")\n",
    "ackley_calculation.close()"
   ]
  },
  {
   "cell_type": "markdown",
   "id": "64026ce4-a189-452e-af11-c1c029d13c4d",
   "metadata": {},
   "source": [
    "## ROLLO get_ackley_output.py to return ackley function value to ROLLO. "
   ]
  },
  {
   "cell_type": "code",
   "execution_count": 27,
   "id": "9aa02ef5-607b-4f31-994f-aadc6172e7fe",
   "metadata": {},
   "outputs": [],
   "source": [
    "ackley_output = open(\"get_ackley_output.py\", \"w\")\n",
    "ackley_output.write(\"\"\"\n",
    "import numpy as np\n",
    "import ast\n",
    "\n",
    "with open(\"ackley_evaluator_input_script_out.txt\") as file:\n",
    "    contents = file.read()\n",
    "ackley = ast.literal_eval(contents)\n",
    "print({\"ackley\": ackley})\n",
    "\"\"\")\n",
    "ackley_output.close()"
   ]
  },
  {
   "cell_type": "markdown",
   "id": "cc20ddda-111e-460e-bfd9-a69bc5701ed3",
   "metadata": {},
   "source": [
    "## Run ROLLO Optimization "
   ]
  },
  {
   "cell_type": "code",
   "execution_count": 28,
   "id": "1a560a4a-d199-4c2f-9b2e-4e986ac4a7cd",
   "metadata": {},
   "outputs": [
    {
     "name": "stderr",
     "output_type": "stream",
     "text": [
      "WARNING:root: ROLLO added default for variable: mutation_probability, default value = 0.23\n",
      "WARNING:root: ROLLO added default for variable: mating_probability, default value = 0.47\n",
      "WARNING:root: ROLLO added default for variable: selection_operator, default value = {'operator': 'selTournament', 'tournsize': 5}\n",
      "WARNING:root: ROLLO added default for variable: mutation_operator, default value = {'operator': 'mutPolynomialBounded', 'eta': 0.23, 'indpb': 0.23}\n",
      "WARNING:root: ROLLO added default for variable: mating_operator, default value = {'operator': 'cxBlend', 'alpha': 0.46}\n",
      "WARNING:root: parallel method = none\n",
      "WARNING:root: 0 out of 100 inds were constrained\n",
      "WARNING:root: 0 out of 100 inds were constrained\n",
      "WARNING:root: 0 out of 100 inds were constrained\n",
      "WARNING:root: 0 out of 100 inds were constrained\n",
      "WARNING:root: 0 out of 100 inds were constrained\n",
      "WARNING:root: 0 out of 100 inds were constrained\n",
      "WARNING:root: 0 out of 100 inds were constrained\n",
      "WARNING:root: 0 out of 100 inds were constrained\n",
      "WARNING:root: 0 out of 100 inds were constrained\n"
     ]
    },
    {
     "name": "stdout",
     "output_type": "stream",
     "text": [
      "Entering generation 0...\n",
      "       \t   \t     \t                             oup                             \t                                       ind                                       \n",
      "       \t   \t     \t-------------------------------------------------------------\t---------------------------------------------------------------------------------\n",
      "time   \tgen\tevals\tavg          \tstd        \tmin         \tmax          \tavg                    \tmin                        \tmax                      \n",
      "71.6808\t0  \t100  \t[20.48285334]\t[1.8043881]\t[10.4943522]\t[22.22686589]\t[3.60978399 2.9847639 ]\t[-29.61501785 -32.18171576]\t[31.57073548 31.97002803]\n",
      "Entering generation 1...\n",
      "       \t   \t     \t                             oup                             \t                                       ind                                       \n",
      "       \t   \t     \t-------------------------------------------------------------\t---------------------------------------------------------------------------------\n",
      "time   \tgen\tevals\tavg          \tstd         \tmin         \tmax          \tavg                    \tmin                        \tmax                      \n",
      "71.6808\t0  \t100  \t[20.48285334]\t[1.8043881] \t[10.4943522]\t[22.22686589]\t[3.60978399 2.9847639 ]\t[-29.61501785 -32.18171576]\t[31.57073548 31.97002803]\n",
      "120.426\t1  \t66   \t[18.48570757]\t[2.37381003]\t[10.4943522]\t[21.27503093]\t[1.23567931 1.22323858]\t[-27.0470669  -24.95701532]\t[30.79660447 29.12542646]\n",
      "Entering generation 2...\n",
      "       \t   \t     \t                             oup                             \t                                       ind                                       \n",
      "       \t   \t     \t-------------------------------------------------------------\t---------------------------------------------------------------------------------\n",
      "time   \tgen\tevals\tavg          \tstd         \tmin         \tmax          \tavg                    \tmin                        \tmax                      \n",
      "71.6808\t0  \t100  \t[20.48285334]\t[1.8043881] \t[10.4943522]\t[22.22686589]\t[3.60978399 2.9847639 ]\t[-29.61501785 -32.18171576]\t[31.57073548 31.97002803]\n",
      "120.426\t1  \t66   \t[18.48570757]\t[2.37381003]\t[10.4943522]\t[21.27503093]\t[1.23567931 1.22323858]\t[-27.0470669  -24.95701532]\t[30.79660447 29.12542646]\n",
      "168.007\t2  \t65   \t[15.0318289] \t[3.28485148]\t[6.28214417]\t[19.71503191]\t[0.53733908 0.45955231]\t[-12.44608411 -18.20566917]\t[16.99042972 21.99839726]\n",
      "Entering generation 3...\n",
      "       \t   \t     \t                             oup                             \t                                           ind                                           \n",
      "       \t   \t     \t-------------------------------------------------------------\t-----------------------------------------------------------------------------------------\n",
      "time   \tgen\tevals\tavg          \tstd         \tmin         \tmax          \tavg                      \tmin                        \tmax                      \n",
      "71.6808\t0  \t100  \t[20.48285334]\t[1.8043881] \t[10.4943522]\t[22.22686589]\t[3.60978399 2.9847639 ]  \t[-29.61501785 -32.18171576]\t[31.57073548 31.97002803]\n",
      "120.426\t1  \t66   \t[18.48570757]\t[2.37381003]\t[10.4943522]\t[21.27503093]\t[1.23567931 1.22323858]  \t[-27.0470669  -24.95701532]\t[30.79660447 29.12542646]\n",
      "168.007\t2  \t65   \t[15.0318289] \t[3.28485148]\t[6.28214417]\t[19.71503191]\t[0.53733908 0.45955231]  \t[-12.44608411 -18.20566917]\t[16.99042972 21.99839726]\n",
      "202.559\t3  \t48   \t[10.88495584]\t[2.86248266]\t[2.66943739]\t[15.39104335]\t[ 0.48999607 -0.12828725]\t[-7.48043303 -4.92389873]  \t[7.22811566 6.88802504]  \n",
      "Entering generation 4...\n",
      "       \t   \t     \t                             oup                             \t                                           ind                                           \n",
      "       \t   \t     \t-------------------------------------------------------------\t-----------------------------------------------------------------------------------------\n",
      "time   \tgen\tevals\tavg          \tstd         \tmin         \tmax          \tavg                      \tmin                        \tmax                      \n",
      "71.6808\t0  \t100  \t[20.48285334]\t[1.8043881] \t[10.4943522]\t[22.22686589]\t[3.60978399 2.9847639 ]  \t[-29.61501785 -32.18171576]\t[31.57073548 31.97002803]\n",
      "120.426\t1  \t66   \t[18.48570757]\t[2.37381003]\t[10.4943522]\t[21.27503093]\t[1.23567931 1.22323858]  \t[-27.0470669  -24.95701532]\t[30.79660447 29.12542646]\n",
      "168.007\t2  \t65   \t[15.0318289] \t[3.28485148]\t[6.28214417]\t[19.71503191]\t[0.53733908 0.45955231]  \t[-12.44608411 -18.20566917]\t[16.99042972 21.99839726]\n",
      "202.559\t3  \t48   \t[10.88495584]\t[2.86248266]\t[2.66943739]\t[15.39104335]\t[ 0.48999607 -0.12828725]\t[-7.48043303 -4.92389873]  \t[7.22811566 6.88802504]  \n",
      "242.562\t4  \t53   \t[7.79591185] \t[2.11089357]\t[2.66943739]\t[12.65899066]\t[-0.16938775 -1.59996465]\t[-6.94994505 -4.88164   ]  \t[3.95348308 3.79227992]  \n",
      "Entering generation 5...\n",
      "       \t   \t     \t                             oup                             \t                                           ind                                           \n",
      "       \t   \t     \t-------------------------------------------------------------\t-----------------------------------------------------------------------------------------\n",
      "time   \tgen\tevals\tavg          \tstd         \tmin         \tmax          \tavg                      \tmin                        \tmax                      \n",
      "71.6808\t0  \t100  \t[20.48285334]\t[1.8043881] \t[10.4943522]\t[22.22686589]\t[3.60978399 2.9847639 ]  \t[-29.61501785 -32.18171576]\t[31.57073548 31.97002803]\n",
      "120.426\t1  \t66   \t[18.48570757]\t[2.37381003]\t[10.4943522]\t[21.27503093]\t[1.23567931 1.22323858]  \t[-27.0470669  -24.95701532]\t[30.79660447 29.12542646]\n",
      "168.007\t2  \t65   \t[15.0318289] \t[3.28485148]\t[6.28214417]\t[19.71503191]\t[0.53733908 0.45955231]  \t[-12.44608411 -18.20566917]\t[16.99042972 21.99839726]\n",
      "202.559\t3  \t48   \t[10.88495584]\t[2.86248266]\t[2.66943739]\t[15.39104335]\t[ 0.48999607 -0.12828725]\t[-7.48043303 -4.92389873]  \t[7.22811566 6.88802504]  \n",
      "242.562\t4  \t53   \t[7.79591185] \t[2.11089357]\t[2.66943739]\t[12.65899066]\t[-0.16938775 -1.59996465]\t[-6.94994505 -4.88164   ]  \t[3.95348308 3.79227992]  \n",
      "291.438\t5  \t68   \t[5.61094952] \t[1.45460091]\t[2.66943739]\t[9.7939821]  \t[-0.01961302 -0.50016859]\t[-1.98964088 -4.017572  ]  \t[2.02717473 1.74755853]  \n",
      "Entering generation 6...\n",
      "       \t   \t     \t                             oup                             \t                                           ind                                           \n",
      "       \t   \t     \t-------------------------------------------------------------\t-----------------------------------------------------------------------------------------\n",
      "time   \tgen\tevals\tavg          \tstd         \tmin         \tmax          \tavg                      \tmin                        \tmax                      \n",
      "71.6808\t0  \t100  \t[20.48285334]\t[1.8043881] \t[10.4943522]\t[22.22686589]\t[3.60978399 2.9847639 ]  \t[-29.61501785 -32.18171576]\t[31.57073548 31.97002803]\n",
      "120.426\t1  \t66   \t[18.48570757]\t[2.37381003]\t[10.4943522]\t[21.27503093]\t[1.23567931 1.22323858]  \t[-27.0470669  -24.95701532]\t[30.79660447 29.12542646]\n",
      "168.007\t2  \t65   \t[15.0318289] \t[3.28485148]\t[6.28214417]\t[19.71503191]\t[0.53733908 0.45955231]  \t[-12.44608411 -18.20566917]\t[16.99042972 21.99839726]\n",
      "202.559\t3  \t48   \t[10.88495584]\t[2.86248266]\t[2.66943739]\t[15.39104335]\t[ 0.48999607 -0.12828725]\t[-7.48043303 -4.92389873]  \t[7.22811566 6.88802504]  \n",
      "242.562\t4  \t53   \t[7.79591185] \t[2.11089357]\t[2.66943739]\t[12.65899066]\t[-0.16938775 -1.59996465]\t[-6.94994505 -4.88164   ]  \t[3.95348308 3.79227992]  \n",
      "291.438\t5  \t68   \t[5.61094952] \t[1.45460091]\t[2.66943739]\t[9.7939821]  \t[-0.01961302 -0.50016859]\t[-1.98964088 -4.017572  ]  \t[2.02717473 1.74755853]  \n",
      "328.525\t6  \t52   \t[3.96130086] \t[1.09249167]\t[2.66943739]\t[6.28214417] \t[0.35228997 0.25595661]  \t[-0.88946589 -1.5024206 ]  \t[2.02717473 1.47435258]  \n",
      "Entering generation 7...\n",
      "       \t   \t     \t                             oup                             \t                                           ind                                           \n",
      "       \t   \t     \t-------------------------------------------------------------\t-----------------------------------------------------------------------------------------\n",
      "time   \tgen\tevals\tavg          \tstd         \tmin         \tmax          \tavg                      \tmin                        \tmax                      \n",
      "71.6808\t0  \t100  \t[20.48285334]\t[1.8043881] \t[10.4943522]\t[22.22686589]\t[3.60978399 2.9847639 ]  \t[-29.61501785 -32.18171576]\t[31.57073548 31.97002803]\n",
      "120.426\t1  \t66   \t[18.48570757]\t[2.37381003]\t[10.4943522]\t[21.27503093]\t[1.23567931 1.22323858]  \t[-27.0470669  -24.95701532]\t[30.79660447 29.12542646]\n",
      "168.007\t2  \t65   \t[15.0318289] \t[3.28485148]\t[6.28214417]\t[19.71503191]\t[0.53733908 0.45955231]  \t[-12.44608411 -18.20566917]\t[16.99042972 21.99839726]\n",
      "202.559\t3  \t48   \t[10.88495584]\t[2.86248266]\t[2.66943739]\t[15.39104335]\t[ 0.48999607 -0.12828725]\t[-7.48043303 -4.92389873]  \t[7.22811566 6.88802504]  \n",
      "242.562\t4  \t53   \t[7.79591185] \t[2.11089357]\t[2.66943739]\t[12.65899066]\t[-0.16938775 -1.59996465]\t[-6.94994505 -4.88164   ]  \t[3.95348308 3.79227992]  \n",
      "291.438\t5  \t68   \t[5.61094952] \t[1.45460091]\t[2.66943739]\t[9.7939821]  \t[-0.01961302 -0.50016859]\t[-1.98964088 -4.017572  ]  \t[2.02717473 1.74755853]  \n",
      "328.525\t6  \t52   \t[3.96130086] \t[1.09249167]\t[2.66943739]\t[6.28214417] \t[0.35228997 0.25595661]  \t[-0.88946589 -1.5024206 ]  \t[2.02717473 1.47435258]  \n",
      "364.209\t7  \t50   \t[2.89293174] \t[0.54667211]\t[2.14096299]\t[5.30143368] \t[0.00942132 0.56199854]  \t[-0.88946589 -1.0191971 ]  \t[0.75256273 1.27108236]  \n",
      "Entering generation 8...\n",
      "       \t   \t     \t                             oup                             \t                                           ind                                           \n",
      "       \t   \t     \t-------------------------------------------------------------\t-----------------------------------------------------------------------------------------\n",
      "time   \tgen\tevals\tavg          \tstd         \tmin         \tmax          \tavg                      \tmin                        \tmax                      \n",
      "71.6808\t0  \t100  \t[20.48285334]\t[1.8043881] \t[10.4943522]\t[22.22686589]\t[3.60978399 2.9847639 ]  \t[-29.61501785 -32.18171576]\t[31.57073548 31.97002803]\n",
      "120.426\t1  \t66   \t[18.48570757]\t[2.37381003]\t[10.4943522]\t[21.27503093]\t[1.23567931 1.22323858]  \t[-27.0470669  -24.95701532]\t[30.79660447 29.12542646]\n",
      "168.007\t2  \t65   \t[15.0318289] \t[3.28485148]\t[6.28214417]\t[19.71503191]\t[0.53733908 0.45955231]  \t[-12.44608411 -18.20566917]\t[16.99042972 21.99839726]\n",
      "202.559\t3  \t48   \t[10.88495584]\t[2.86248266]\t[2.66943739]\t[15.39104335]\t[ 0.48999607 -0.12828725]\t[-7.48043303 -4.92389873]  \t[7.22811566 6.88802504]  \n",
      "242.562\t4  \t53   \t[7.79591185] \t[2.11089357]\t[2.66943739]\t[12.65899066]\t[-0.16938775 -1.59996465]\t[-6.94994505 -4.88164   ]  \t[3.95348308 3.79227992]  \n",
      "291.438\t5  \t68   \t[5.61094952] \t[1.45460091]\t[2.66943739]\t[9.7939821]  \t[-0.01961302 -0.50016859]\t[-1.98964088 -4.017572  ]  \t[2.02717473 1.74755853]  \n",
      "328.525\t6  \t52   \t[3.96130086] \t[1.09249167]\t[2.66943739]\t[6.28214417] \t[0.35228997 0.25595661]  \t[-0.88946589 -1.5024206 ]  \t[2.02717473 1.47435258]  \n",
      "364.209\t7  \t50   \t[2.89293174] \t[0.54667211]\t[2.14096299]\t[5.30143368] \t[0.00942132 0.56199854]  \t[-0.88946589 -1.0191971 ]  \t[0.75256273 1.27108236]  \n",
      "417.798\t8  \t75   \t[2.43340687] \t[0.48091399]\t[0.2599388] \t[2.86654409] \t[-0.00380079  0.55969917]\t[-0.11591741 -0.96281837]  \t[0.07513524 0.98587976]  \n",
      "Entering generation 9...\n",
      "       \t   \t     \t                             oup                             \t                                           ind                                           \n",
      "       \t   \t     \t-------------------------------------------------------------\t-----------------------------------------------------------------------------------------\n",
      "time   \tgen\tevals\tavg          \tstd         \tmin         \tmax          \tavg                      \tmin                        \tmax                      \n",
      "71.6808\t0  \t100  \t[20.48285334]\t[1.8043881] \t[10.4943522]\t[22.22686589]\t[3.60978399 2.9847639 ]  \t[-29.61501785 -32.18171576]\t[31.57073548 31.97002803]\n",
      "120.426\t1  \t66   \t[18.48570757]\t[2.37381003]\t[10.4943522]\t[21.27503093]\t[1.23567931 1.22323858]  \t[-27.0470669  -24.95701532]\t[30.79660447 29.12542646]\n",
      "168.007\t2  \t65   \t[15.0318289] \t[3.28485148]\t[6.28214417]\t[19.71503191]\t[0.53733908 0.45955231]  \t[-12.44608411 -18.20566917]\t[16.99042972 21.99839726]\n",
      "202.559\t3  \t48   \t[10.88495584]\t[2.86248266]\t[2.66943739]\t[15.39104335]\t[ 0.48999607 -0.12828725]\t[-7.48043303 -4.92389873]  \t[7.22811566 6.88802504]  \n",
      "242.562\t4  \t53   \t[7.79591185] \t[2.11089357]\t[2.66943739]\t[12.65899066]\t[-0.16938775 -1.59996465]\t[-6.94994505 -4.88164   ]  \t[3.95348308 3.79227992]  \n",
      "291.438\t5  \t68   \t[5.61094952] \t[1.45460091]\t[2.66943739]\t[9.7939821]  \t[-0.01961302 -0.50016859]\t[-1.98964088 -4.017572  ]  \t[2.02717473 1.74755853]  \n",
      "328.525\t6  \t52   \t[3.96130086] \t[1.09249167]\t[2.66943739]\t[6.28214417] \t[0.35228997 0.25595661]  \t[-0.88946589 -1.5024206 ]  \t[2.02717473 1.47435258]  \n",
      "364.209\t7  \t50   \t[2.89293174] \t[0.54667211]\t[2.14096299]\t[5.30143368] \t[0.00942132 0.56199854]  \t[-0.88946589 -1.0191971 ]  \t[0.75256273 1.27108236]  \n",
      "417.798\t8  \t75   \t[2.43340687] \t[0.48091399]\t[0.2599388] \t[2.86654409] \t[-0.00380079  0.55969917]\t[-0.11591741 -0.96281837]  \t[0.07513524 0.98587976]  \n",
      "456.477\t9  \t53   \t[1.83336714] \t[0.75811359]\t[0.05478186]\t[2.66943739] \t[-0.02730303  0.09912052]\t[-0.11591741 -0.27440882]  \t[0.07513524 0.98587976]  \n",
      "rollo Simulation Completed!\n",
      "Total time in simulation 456.48 seconds\n"
     ]
    },
    {
     "name": "stderr",
     "output_type": "stream",
     "text": [
      "WARNING:root: 0 out of 100 inds were constrained\n"
     ]
    },
    {
     "data": {
      "text/plain": [
       "0"
      ]
     },
     "execution_count": 28,
     "metadata": {},
     "output_type": "execute_result"
    }
   ],
   "source": [
    "import subprocess \n",
    "\n",
    "subprocess.call(\"python -m rollo -i ackley_optimization.json\", shell=True)"
   ]
  },
  {
   "cell_type": "markdown",
   "id": "7d2d6617-99b5-4096-9867-27b6be349785",
   "metadata": {},
   "source": [
    "## Analyze Results Checkpoint File "
   ]
  },
  {
   "cell_type": "code",
   "execution_count": 58,
   "id": "6234c0ce-7fe0-4ab6-8eff-e3a3c9c639b0",
   "metadata": {},
   "outputs": [
    {
     "name": "stderr",
     "output_type": "stream",
     "text": [
      "/Users/gwenchee/mambaforge3/lib/python3.9/site-packages/deap/creator.py:138: RuntimeWarning: A class named 'obj' has already been created and it will be overwritten. Consider deleting previous creation of that class or rename it.\n",
      "  warnings.warn(\"A class named '{0}' has already been created and it \"\n",
      "/Users/gwenchee/mambaforge3/lib/python3.9/site-packages/deap/creator.py:138: RuntimeWarning: A class named 'Ind' has already been created and it will be overwritten. Consider deleting previous creation of that class or rename it.\n",
      "  warnings.warn(\"A class named '{0}' has already been created and it \"\n"
     ]
    }
   ],
   "source": [
    "import pickle \n",
    "import numpy as np\n",
    "from deap import creator, base\n",
    "\n",
    "creator.create(\"obj\", base.Fitness, weights=(1.0,))\n",
    "creator.create(\"Ind\", list, fitness=creator.obj)\n",
    "\n",
    "with open(\"checkpoint.pkl\", \"rb\") as cp_file:\n",
    "    cp = pickle.load(cp_file)\n",
    "\n",
    "logbook = cp[\"all\"]"
   ]
  },
  {
   "cell_type": "code",
   "execution_count": 73,
   "id": "73d0dabe-1419-4df2-b7d9-1041868f899f",
   "metadata": {},
   "outputs": [
    {
     "name": "stdout",
     "output_type": "stream",
     "text": [
      "Ackley Function Value: 0.054781859969839974 , (x,y):  [0.006417761456496023, -0.015457276149234152]\n"
     ]
    }
   ],
   "source": [
    "final_gen = logbook[\"populations\"][-1]\n",
    "final_gen_ackley_values = np.array([ind.output[0] for ind in final_gen])\n",
    "final_gen_ackley_sort = np.argsort(final_gen_ackley_values)[0]\n",
    "\n",
    "# final generation, individual with smallest ackley function value: \n",
    "print(\"Ackley Function Value:\", final_gen_ackley_values[final_gen_ackley_sort], ', (x,y): ', final_gen[final_gen_ackley_sort])"
   ]
  },
  {
   "cell_type": "markdown",
   "id": "356e3f87-fcd9-454a-adcc-6b4737291fe3",
   "metadata": {},
   "source": [
    "ROLLO successfully found the minimum point of the ackley function. "
   ]
  }
 ],
 "metadata": {
  "kernelspec": {
   "display_name": "Python 3 (ipykernel)",
   "language": "python",
   "name": "python3"
  },
  "language_info": {
   "codemirror_mode": {
    "name": "ipython",
    "version": 3
   },
   "file_extension": ".py",
   "mimetype": "text/x-python",
   "name": "python",
   "nbconvert_exporter": "python",
   "pygments_lexer": "ipython3",
   "version": "3.9.10"
  }
 },
 "nbformat": 4,
 "nbformat_minor": 5
}
