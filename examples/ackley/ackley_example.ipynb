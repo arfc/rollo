{
 "cells": [
  {
   "cell_type": "markdown",
   "id": "0b0cbe82-c340-4a80-bfb2-92f9030410de",
   "metadata": {},
   "source": [
    "# Verification Example \n",
    "This notebook contains a verification study to verify ROLLO's optimization capabilities. \n",
    "The Ackley function is a commonly used evolutionary algorithm single objective benchmark problem. "
   ]
  },
  {
   "cell_type": "markdown",
   "id": "8abc528b-cde4-476f-a2c2-12dda7ac69f5",
   "metadata": {},
   "source": [
    "## Ackley Function \n",
    "The [Ackley Function](https://www.sfu.ca/~ssurjano/ackley.html) is a non-convex \n",
    "function, commonly used as a performance test for single-objective optimization \n",
    "algorithms:\n",
    "\n",
    "$f(x) = -a \\cdot exp \\left(-b\\sqrt{\\frac{1}{d}\\Sigma_{i=1}^dx_i^2}\\right) - exp \\left(\\frac{1}{d}\\Sigma_{i=1}^d cos(cx_i)\\right) + a + exp(1)$\n",
    "\n",
    "The recommended variable values are a = 20, b = 0.2, and c = 2π. The Ackley function’s global minimum point is f (0, 0) = 0. The figure below shows the resulting two-variable Ackley function (taken from [here](https://www.sfu.ca/~ssurjano/ackley.html)):\n",
    "\n",
    "![Ackley](ackley.png)"
   ]
  },
  {
   "cell_type": "markdown",
   "id": "90d91a1a-1e98-4bde-8eea-b0b844447936",
   "metadata": {},
   "source": [
    "## ROLLO Input File"
   ]
  },
  {
   "cell_type": "code",
   "execution_count": 1,
   "id": "fb6324e4-d91a-4a76-ba01-4d80bf562a29",
   "metadata": {},
   "outputs": [
    {
     "name": "stdout",
     "output_type": "stream",
     "text": [
      "{\n",
      "    \"control_variables\": {\n",
      "        \"x1\": {\"min\": -32.768, \"max\": 32.768},\n",
      "        \"x2\": {\"min\": -32.768, \"max\": 32.768}\n",
      "    },\n",
      "    \"evaluators\": {\n",
      "        \"openmc\": {\n",
      "            \"order\": 0,\n",
      "            \"input_script\": [\"python\", \"input_test_ackley.py\"],\n",
      "            \"inputs\": [\"x1\", \"x2\"],\n",
      "            \"output_script\": [\"python\", \"input_test_ackley_output.py\"],\n",
      "            \"outputs\": [\"ackley\"],\n",
      "            \"keep_files\": \"none\"\n",
      "        }\n",
      "    },\n",
      "    \"constraints\": {},\n",
      "    \"algorithm\": {\n",
      "        \"objective\": [\"min\"],\n",
      "        \"weight\": [1.0],\n",
      "        \"optimized_variable\": [\"ackley\"],\n",
      "        \"pop_size\": 100,\n",
      "        \"generations\": 10,\n",
      "        \"parallel\": \"none\"\n",
      "    }\n",
      "}\n",
      "\n"
     ]
    }
   ],
   "source": [
    "rollo_input_file = open(\"../../tests/integration_tests/input_test_files/input_test_ackley.json\", \"r\")\n",
    "print(rollo_input_file.read())"
   ]
  },
  {
   "cell_type": "markdown",
   "id": "babc4a42-6c9f-4b2a-ab2d-2b195fccf496",
   "metadata": {},
   "source": [
    "## ROLLO `input_test_ackley.py`"
   ]
  },
  {
   "cell_type": "code",
   "execution_count": 2,
   "id": "c1840629-c4ef-4351-826a-a8c211726e64",
   "metadata": {},
   "outputs": [
    {
     "name": "stdout",
     "output_type": "stream",
     "text": [
      "# ROLLO Input Script Template for input_test_ackley.json\n",
      "import numpy as np\n",
      "\n",
      "x1 = {{x1}}\n",
      "x2 = {{x2}}\n",
      "ackley = (\n",
      "    -20 * np.exp(-0.2 * np.sqrt(1 / 2 * (x1 ** 2 + x2 ** 2)))\n",
      "    - np.exp(1 / 2 * (np.cos(2 * np.pi * x1) + np.cos(2 * np.pi * x2)))\n",
      "    + 20\n",
      "    + np.exp(1)\n",
      ")\n",
      "\n",
      "print(ackley)\n",
      "\n"
     ]
    }
   ],
   "source": [
    "input_test_ackley = open(\"../../tests/integration_tests/input_test_files/input_test_ackley.py\", \"r\")\n",
    "print(input_test_ackley.read())"
   ]
  },
  {
   "cell_type": "markdown",
   "id": "64026ce4-a189-452e-af11-c1c029d13c4d",
   "metadata": {},
   "source": [
    "# ROLLO input_test_ackley_output.py"
   ]
  },
  {
   "cell_type": "code",
   "execution_count": 3,
   "id": "a2e9c938-3cff-4714-8677-f68b2d129d22",
   "metadata": {},
   "outputs": [
    {
     "name": "stdout",
     "output_type": "stream",
     "text": [
      "import numpy as np\n",
      "import ast\n",
      "\n",
      "with open(\"output.txt\") as file:\n",
      "    contents = file.read()\n",
      "ackley = ast.literal_eval(contents)\n",
      "print({\"ackley\": ackley})\n",
      "\n"
     ]
    }
   ],
   "source": [
    "input_test_ackley_output = open(\"../../tests/integration_tests/input_test_files/input_test_ackley_output.py\", \"r\")\n",
    "print(input_test_ackley_output.read())"
   ]
  },
  {
   "cell_type": "code",
   "execution_count": null,
   "id": "e63fd48b-deb1-4c4c-9bde-ed277eae2f27",
   "metadata": {},
   "outputs": [],
   "source": []
  },
  {
   "cell_type": "code",
   "execution_count": null,
   "id": "1a560a4a-d199-4c2f-9b2e-4e986ac4a7cd",
   "metadata": {},
   "outputs": [],
   "source": []
  }
 ],
 "metadata": {
  "kernelspec": {
   "display_name": "Python 3 (ipykernel)",
   "language": "python",
   "name": "python3"
  },
  "language_info": {
   "codemirror_mode": {
    "name": "ipython",
    "version": 3
   },
   "file_extension": ".py",
   "mimetype": "text/x-python",
   "name": "python",
   "nbconvert_exporter": "python",
   "pygments_lexer": "ipython3",
   "version": "3.9.10"
  }
 },
 "nbformat": 4,
 "nbformat_minor": 5
}
