{
 "cells": [
  {
   "cell_type": "markdown",
   "id": "92a8bcbc-db01-4649-a7ce-b6d5a5b4e973",
   "metadata": {},
   "source": [
    "# Pu-239 Critical Bare Sphere \n",
    "\n",
    "This notebook contains an example optimization problem of finding the critical radius for a Pu-239 bare sphere. I use the [OpenMC software](https://docs.openmc.org/en/stable/) to calculate the sphere's $k_{eff}$. \n",
    "\n",
    "The solution to this problem is well studied and available (see [Blanchard et al.](https://sti.srs.gov/fulltext/ms9900313/ms9900313.html)). Blanchard et al reported that with MCNP4b code and ENDF/B-VI data library, the critical mass of a Pu239\n",
    "bare sphere is 10.00 kg which corresponds to a diameter of 9.9cm.\n",
    "\n",
    "The ROLLO optimization simulation is succcessful if it finds the critical radius of 4.95cm. "
   ]
  },
  {
   "cell_type": "markdown",
   "id": "decb5e24-bc5d-4b75-b338-8f29e714f741",
   "metadata": {},
   "source": [
    "## ROLLO Input File\n",
    "\n",
    "ROLLO varies the `radius` control variable to minimize `radius` while constraining $k_{eff} >=1$. "
   ]
  },
  {
   "cell_type": "code",
   "execution_count": 1,
   "id": "f5f151d5-c79c-4326-bab4-c2f39a9b6add",
   "metadata": {},
   "outputs": [
    {
     "name": "stdout",
     "output_type": "stream",
     "text": [
      "{\n",
      "    \"control_variables\": {\n",
      "        \"radius\": {\"min\": 1.0, \"max\": 8.0}\n",
      "    },\n",
      "    \"evaluators\": {\n",
      "        \"openmc\": {\n",
      "            \"order\": 0,\n",
      "            \"input_script\": [\"python\", \"critical_sphere.py\"],\n",
      "            \"inputs\": [\"radius\"],\n",
      "            \"outputs\": [\"keff\", \"radius\"],\n",
      "            \"output_script\": [\"python\", \"get_sphere_keff.py\"]\n",
      "        }\n",
      "    },\n",
      "    \"constraints\": {\"keff\": {\"operator\": [\">=\"], \"constrained_val\": [1.0]}},\n",
      "    \"algorithm\": {\n",
      "        \"parallel\": \"multiprocessing\",\n",
      "        \"keep_files\": \"none\",\n",
      "        \"objective\": [\"min\"],\n",
      "        \"optimized_variable\": [\"radius\"],\n",
      "        \"pop_size\": 80,\n",
      "        \"generations\": 10\n",
      "    }\n",
      "}\n",
      "\n"
     ]
    }
   ],
   "source": [
    "rollo_input_file = open(\"rollo_critical_sphere.json\", \"r\")\n",
    "print(rollo_input_file.read())"
   ]
  },
  {
   "cell_type": "markdown",
   "id": "1a06dd56-45c9-44d2-82fd-d041eef3f6c6",
   "metadata": {},
   "source": [
    "## ROLLO `critical_sphere.py` input script to calculate sphere's $k_{eff}$ value. "
   ]
  },
  {
   "cell_type": "code",
   "execution_count": 2,
   "id": "d701a1a8-cb81-4cf8-9db8-15c45ea70acc",
   "metadata": {},
   "outputs": [
    {
     "name": "stdout",
     "output_type": "stream",
     "text": [
      "import openmc \n",
      "import numpy as np\n",
      "\n",
      "pu = openmc.Material()\n",
      "pu.set_density(\"g/cm3\", 19.84)\n",
      "pu.add_nuclide(\"Pu239\", 1)\n",
      "mats = openmc.Materials([pu])\n",
      "\n",
      "radius = {{radius}}\n",
      "\n",
      "fuel_sphere = openmc.Sphere(r=radius, boundary_type='vacuum')\n",
      "fuel_cell = openmc.Cell(fill=pu, region=-fuel_sphere)\n",
      "univ = openmc.Universe(cells=[fuel_cell])\n",
      "geom = openmc.Geometry(univ)\n",
      "\n",
      "settings = openmc.Settings()\n",
      "settings.batches = 100\n",
      "settings.inactive = 20\n",
      "settings.particles = 20000\n",
      "settings.temperature = {\"multipole\": True, \"method\": \"interpolation\"}\n",
      "\n",
      "\n",
      "mats.export_to_xml()\n",
      "geom.export_to_xml()\n",
      "settings.export_to_xml()\n",
      "openmc.run()\n"
     ]
    }
   ],
   "source": [
    "critical_sphere_calculation = open(\"critical_sphere.py\", \"r\")\n",
    "print(critical_sphere_calculation.read())"
   ]
  },
  {
   "cell_type": "markdown",
   "id": "95862d4e-0bab-45cd-92b9-08b160c33a76",
   "metadata": {},
   "source": [
    "## get_sphere_keff.py to return sphere's $k_{eff}$ value to ROLLO. "
   ]
  },
  {
   "cell_type": "code",
   "execution_count": 3,
   "id": "fedadba0-7a8d-41b7-93db-391986929363",
   "metadata": {},
   "outputs": [
    {
     "name": "stdout",
     "output_type": "stream",
     "text": [
      "import openmc\n",
      "h5file = \"statepoint.100.h5\"\n",
      "sp = openmc.StatePoint(h5file, autolink=False)\n",
      "keff = sp.k_combined.nominal_value\n",
      "\n",
      "print({\"keff\": keff})\n"
     ]
    }
   ],
   "source": [
    "get_sphere_keff_calculation = open(\"get_sphere_keff.py\", \"r\")\n",
    "print(get_sphere_keff_calculation.read())"
   ]
  },
  {
   "cell_type": "markdown",
   "id": "cfb96278-d777-4c7c-a343-a6179ddc42e9",
   "metadata": {},
   "source": [
    "## Run ROLLO Optimization"
   ]
  },
  {
   "cell_type": "code",
   "execution_count": 10,
   "id": "e9a2c8db-1b65-4493-8b84-5b07458dae3b",
   "metadata": {},
   "outputs": [
    {
     "name": "stderr",
     "output_type": "stream",
     "text": [
      "WARNING:root: ROLLO added default for variable: weight, default value = [1.0]\n",
      "WARNING:root: ROLLO added default for variable: mutation_probability, default value = 0.23\n",
      "WARNING:root: ROLLO added default for variable: mating_probability, default value = 0.47\n",
      "WARNING:root: ROLLO added default for variable: selection_operator, default value = {'operator': 'selTournament', 'tournsize': 5}\n",
      "WARNING:root: ROLLO added default for variable: mutation_operator, default value = {'operator': 'mutPolynomialBounded', 'eta': 0.23, 'indpb': 0.23}\n",
      "WARNING:root: ROLLO added default for variable: mating_operator, default value = {'operator': 'cxBlend', 'alpha': 0.46}\n",
      "WARNING:root: parallel method = none\n",
      "WARNING:root: 41 out of 80 inds were constrained\n",
      "WARNING:root: 2 out of 80 inds were constrained\n",
      "WARNING:root: 1 out of 80 inds were constrained\n",
      "WARNING:root: 20 out of 80 inds were constrained\n",
      "WARNING:root: 14 out of 80 inds were constrained\n",
      "WARNING:root: 7 out of 80 inds were constrained\n",
      "WARNING:root: 4 out of 80 inds were constrained\n",
      "WARNING:root: 8 out of 80 inds were constrained\n",
      "WARNING:root: 8 out of 80 inds were constrained\n"
     ]
    },
    {
     "name": "stdout",
     "output_type": "stream",
     "text": [
      "Entering generation 0...\n",
      "       \t   \t     \t                                              oup                                              \t                    ind                     \n",
      "       \t   \t     \t-----------------------------------------------------------------------------------------------\t--------------------------------------------\n",
      "time   \tgen\tevals\tavg                    \tstd                    \tmin                    \tmax                    \tavg         \tmin         \tmax         \n",
      "103.414\t0  \t80   \t[6.22778046 1.21148372]\t[0.62556036 0.09608392]\t[5.01839426 1.01527032]\t[7.93088365 1.45986427]\t[6.22778046]\t[5.01839426]\t[7.93088365]\n",
      "Entering generation 1...\n",
      "       \t   \t     \t                                              oup                                              \t                    ind                     \n",
      "       \t   \t     \t-----------------------------------------------------------------------------------------------\t--------------------------------------------\n",
      "time   \tgen\tevals\tavg                    \tstd                    \tmin                    \tmax                    \tavg         \tmin         \tmax         \n",
      "103.414\t0  \t80   \t[6.22778046 1.21148372]\t[0.62556036 0.09608392]\t[5.01839426 1.01527032]\t[7.93088365 1.45986427]\t[6.22778046]\t[5.01839426]\t[7.93088365]\n",
      "158.816\t1  \t43   \t[5.6138841  1.11522109]\t[0.26899693 0.0442475 ]\t[4.97405758 1.0078349 ]\t[6.26592666 1.22044083]\t[5.6138841] \t[4.97405758]\t[6.26592666]\n",
      "Entering generation 2...\n",
      "       \t   \t     \t                                              oup                                              \t                    ind                     \n",
      "       \t   \t     \t-----------------------------------------------------------------------------------------------\t--------------------------------------------\n",
      "time   \tgen\tevals\tavg                    \tstd                    \tmin                    \tmax                    \tavg         \tmin         \tmax         \n",
      "103.414\t0  \t80   \t[6.22778046 1.21148372]\t[0.62556036 0.09608392]\t[5.01839426 1.01527032]\t[7.93088365 1.45986427]\t[6.22778046]\t[5.01839426]\t[7.93088365]\n",
      "158.816\t1  \t43   \t[5.6138841  1.11522109]\t[0.26899693 0.0442475 ]\t[4.97405758 1.0078349 ]\t[6.26592666 1.22044083]\t[5.6138841] \t[4.97405758]\t[6.26592666]\n",
      "224.799\t2  \t52   \t[5.30236605 1.06353391]\t[0.18496119 0.03125193]\t[4.97106566 1.00681482]\t[5.70241222 1.1300213 ]\t[5.30236605]\t[4.97106566]\t[5.70241222]\n",
      "Entering generation 3...\n",
      "       \t   \t     \t                                              oup                                              \t                    ind                     \n",
      "       \t   \t     \t-----------------------------------------------------------------------------------------------\t--------------------------------------------\n",
      "time   \tgen\tevals\tavg                    \tstd                    \tmin                    \tmax                    \tavg         \tmin         \tmax         \n",
      "103.414\t0  \t80   \t[6.22778046 1.21148372]\t[0.62556036 0.09608392]\t[5.01839426 1.01527032]\t[7.93088365 1.45986427]\t[6.22778046]\t[5.01839426]\t[7.93088365]\n",
      "158.816\t1  \t43   \t[5.6138841  1.11522109]\t[0.26899693 0.0442475 ]\t[4.97405758 1.0078349 ]\t[6.26592666 1.22044083]\t[5.6138841] \t[4.97405758]\t[6.26592666]\n",
      "224.799\t2  \t52   \t[5.30236605 1.06353391]\t[0.18496119 0.03125193]\t[4.97106566 1.00681482]\t[5.70241222 1.1300213 ]\t[5.30236605]\t[4.97106566]\t[5.70241222]\n",
      "284.55 \t3  \t47   \t[5.08648471 1.02683654]\t[0.13101876 0.02241633]\t[4.94195586 1.0009034 ]\t[5.28616093 1.06129482]\t[5.08648471]\t[4.94195586]\t[5.28616093]\n",
      "Entering generation 4...\n",
      "       \t   \t     \t                                              oup                                              \t                    ind                     \n",
      "       \t   \t     \t-----------------------------------------------------------------------------------------------\t--------------------------------------------\n",
      "time   \tgen\tevals\tavg                    \tstd                    \tmin                    \tmax                    \tavg         \tmin         \tmax         \n",
      "103.414\t0  \t80   \t[6.22778046 1.21148372]\t[0.62556036 0.09608392]\t[5.01839426 1.01527032]\t[7.93088365 1.45986427]\t[6.22778046]\t[5.01839426]\t[7.93088365]\n",
      "158.816\t1  \t43   \t[5.6138841  1.11522109]\t[0.26899693 0.0442475 ]\t[4.97405758 1.0078349 ]\t[6.26592666 1.22044083]\t[5.6138841] \t[4.97405758]\t[6.26592666]\n",
      "224.799\t2  \t52   \t[5.30236605 1.06353391]\t[0.18496119 0.03125193]\t[4.97106566 1.00681482]\t[5.70241222 1.1300213 ]\t[5.30236605]\t[4.97106566]\t[5.70241222]\n",
      "284.55 \t3  \t47   \t[5.08648471 1.02683654]\t[0.13101876 0.02241633]\t[4.94195586 1.0009034 ]\t[5.28616093 1.06129482]\t[5.08648471]\t[4.94195586]\t[5.28616093]\n",
      "337.855\t4  \t40   \t[4.9766472  1.00797335]\t[0.03986825 0.00692373]\t[4.93602159 1.00029119]\t[5.22423589 1.05017305]\t[4.9766472] \t[4.93602159]\t[5.22423589]\n",
      "Entering generation 5...\n",
      "       \t   \t     \t                                              oup                                              \t                    ind                     \n",
      "       \t   \t     \t-----------------------------------------------------------------------------------------------\t--------------------------------------------\n",
      "time   \tgen\tevals\tavg                    \tstd                    \tmin                    \tmax                    \tavg         \tmin         \tmax         \n",
      "103.414\t0  \t80   \t[6.22778046 1.21148372]\t[0.62556036 0.09608392]\t[5.01839426 1.01527032]\t[7.93088365 1.45986427]\t[6.22778046]\t[5.01839426]\t[7.93088365]\n",
      "158.816\t1  \t43   \t[5.6138841  1.11522109]\t[0.26899693 0.0442475 ]\t[4.97405758 1.0078349 ]\t[6.26592666 1.22044083]\t[5.6138841] \t[4.97405758]\t[6.26592666]\n",
      "224.799\t2  \t52   \t[5.30236605 1.06353391]\t[0.18496119 0.03125193]\t[4.97106566 1.00681482]\t[5.70241222 1.1300213 ]\t[5.30236605]\t[4.97106566]\t[5.70241222]\n",
      "284.55 \t3  \t47   \t[5.08648471 1.02683654]\t[0.13101876 0.02241633]\t[4.94195586 1.0009034 ]\t[5.28616093 1.06129482]\t[5.08648471]\t[4.94195586]\t[5.28616093]\n",
      "337.855\t4  \t40   \t[4.9766472  1.00797335]\t[0.03986825 0.00692373]\t[4.93602159 1.00029119]\t[5.22423589 1.05017305]\t[4.9766472] \t[4.93602159]\t[5.22423589]\n",
      "410.339\t5  \t57   \t[4.95085069 1.00316612]\t[0.0100303 0.0020846]  \t[4.94195586 1.0009034 ]\t[4.97106566 1.00681482]\t[4.95085069]\t[4.94195586]\t[4.97106566]\n",
      "Entering generation 6...\n",
      "       \t   \t     \t                                              oup                                              \t                    ind                     \n",
      "       \t   \t     \t-----------------------------------------------------------------------------------------------\t--------------------------------------------\n",
      "time   \tgen\tevals\tavg                    \tstd                    \tmin                    \tmax                    \tavg         \tmin         \tmax         \n",
      "103.414\t0  \t80   \t[6.22778046 1.21148372]\t[0.62556036 0.09608392]\t[5.01839426 1.01527032]\t[7.93088365 1.45986427]\t[6.22778046]\t[5.01839426]\t[7.93088365]\n",
      "158.816\t1  \t43   \t[5.6138841  1.11522109]\t[0.26899693 0.0442475 ]\t[4.97405758 1.0078349 ]\t[6.26592666 1.22044083]\t[5.6138841] \t[4.97405758]\t[6.26592666]\n",
      "224.799\t2  \t52   \t[5.30236605 1.06353391]\t[0.18496119 0.03125193]\t[4.97106566 1.00681482]\t[5.70241222 1.1300213 ]\t[5.30236605]\t[4.97106566]\t[5.70241222]\n",
      "284.55 \t3  \t47   \t[5.08648471 1.02683654]\t[0.13101876 0.02241633]\t[4.94195586 1.0009034 ]\t[5.28616093 1.06129482]\t[5.08648471]\t[4.94195586]\t[5.28616093]\n",
      "337.855\t4  \t40   \t[4.9766472  1.00797335]\t[0.03986825 0.00692373]\t[4.93602159 1.00029119]\t[5.22423589 1.05017305]\t[4.9766472] \t[4.93602159]\t[5.22423589]\n",
      "410.339\t5  \t57   \t[4.95085069 1.00316612]\t[0.0100303 0.0020846]  \t[4.94195586 1.0009034 ]\t[4.97106566 1.00681482]\t[4.95085069]\t[4.94195586]\t[4.97106566]\n",
      "466.696\t6  \t43   \t[4.94206613 1.00115844]\t[0.00286208 0.00078873]\t[4.93175903 1.00008233]\t[4.94891561 1.0036808 ]\t[4.94206613]\t[4.93175903]\t[4.94891561]\n",
      "Entering generation 7...\n",
      "       \t   \t     \t                                              oup                                              \t                    ind                     \n",
      "       \t   \t     \t-----------------------------------------------------------------------------------------------\t--------------------------------------------\n",
      "time   \tgen\tevals\tavg                    \tstd                    \tmin                    \tmax                    \tavg         \tmin         \tmax         \n",
      "103.414\t0  \t80   \t[6.22778046 1.21148372]\t[0.62556036 0.09608392]\t[5.01839426 1.01527032]\t[7.93088365 1.45986427]\t[6.22778046]\t[5.01839426]\t[7.93088365]\n",
      "158.816\t1  \t43   \t[5.6138841  1.11522109]\t[0.26899693 0.0442475 ]\t[4.97405758 1.0078349 ]\t[6.26592666 1.22044083]\t[5.6138841] \t[4.97405758]\t[6.26592666]\n",
      "224.799\t2  \t52   \t[5.30236605 1.06353391]\t[0.18496119 0.03125193]\t[4.97106566 1.00681482]\t[5.70241222 1.1300213 ]\t[5.30236605]\t[4.97106566]\t[5.70241222]\n",
      "284.55 \t3  \t47   \t[5.08648471 1.02683654]\t[0.13101876 0.02241633]\t[4.94195586 1.0009034 ]\t[5.28616093 1.06129482]\t[5.08648471]\t[4.94195586]\t[5.28616093]\n",
      "337.855\t4  \t40   \t[4.9766472  1.00797335]\t[0.03986825 0.00692373]\t[4.93602159 1.00029119]\t[5.22423589 1.05017305]\t[4.9766472] \t[4.93602159]\t[5.22423589]\n",
      "410.339\t5  \t57   \t[4.95085069 1.00316612]\t[0.0100303 0.0020846]  \t[4.94195586 1.0009034 ]\t[4.97106566 1.00681482]\t[4.95085069]\t[4.94195586]\t[4.97106566]\n",
      "466.696\t6  \t43   \t[4.94206613 1.00115844]\t[0.00286208 0.00078873]\t[4.93175903 1.00008233]\t[4.94891561 1.0036808 ]\t[4.94206613]\t[4.93175903]\t[4.94891561]\n",
      "517.382\t7  \t41   \t[4.94094317 1.00107732]\t[0.00228502 0.00039169]\t[4.92986734 1.00008233]\t[4.94195586 1.00261627]\t[4.94094317]\t[4.92986734]\t[4.94195586]\n",
      "Entering generation 8...\n",
      "       \t   \t     \t                                              oup                                              \t                    ind                     \n",
      "       \t   \t     \t-----------------------------------------------------------------------------------------------\t--------------------------------------------\n",
      "time   \tgen\tevals\tavg                    \tstd                    \tmin                    \tmax                    \tavg         \tmin         \tmax         \n",
      "103.414\t0  \t80   \t[6.22778046 1.21148372]\t[0.62556036 0.09608392]\t[5.01839426 1.01527032]\t[7.93088365 1.45986427]\t[6.22778046]\t[5.01839426]\t[7.93088365]\n",
      "158.816\t1  \t43   \t[5.6138841  1.11522109]\t[0.26899693 0.0442475 ]\t[4.97405758 1.0078349 ]\t[6.26592666 1.22044083]\t[5.6138841] \t[4.97405758]\t[6.26592666]\n",
      "224.799\t2  \t52   \t[5.30236605 1.06353391]\t[0.18496119 0.03125193]\t[4.97106566 1.00681482]\t[5.70241222 1.1300213 ]\t[5.30236605]\t[4.97106566]\t[5.70241222]\n",
      "284.55 \t3  \t47   \t[5.08648471 1.02683654]\t[0.13101876 0.02241633]\t[4.94195586 1.0009034 ]\t[5.28616093 1.06129482]\t[5.08648471]\t[4.94195586]\t[5.28616093]\n",
      "337.855\t4  \t40   \t[4.9766472  1.00797335]\t[0.03986825 0.00692373]\t[4.93602159 1.00029119]\t[5.22423589 1.05017305]\t[4.9766472] \t[4.93602159]\t[5.22423589]\n",
      "410.339\t5  \t57   \t[4.95085069 1.00316612]\t[0.0100303 0.0020846]  \t[4.94195586 1.0009034 ]\t[4.97106566 1.00681482]\t[4.95085069]\t[4.94195586]\t[4.97106566]\n",
      "466.696\t6  \t43   \t[4.94206613 1.00115844]\t[0.00286208 0.00078873]\t[4.93175903 1.00008233]\t[4.94891561 1.0036808 ]\t[4.94206613]\t[4.93175903]\t[4.94891561]\n",
      "517.382\t7  \t41   \t[4.94094317 1.00107732]\t[0.00228502 0.00039169]\t[4.92986734 1.00008233]\t[4.94195586 1.00261627]\t[4.94094317]\t[4.92986734]\t[4.94195586]\n",
      "584.472\t8  \t54   \t[4.93881949 1.00116816]\t[0.00283626 0.00063214]\t[4.92986734 1.00008233]\t[4.94195586 1.00261627]\t[4.93881949]\t[4.92986734]\t[4.94195586]\n",
      "Entering generation 9...\n",
      "       \t   \t     \t                                              oup                                              \t                    ind                     \n",
      "       \t   \t     \t-----------------------------------------------------------------------------------------------\t--------------------------------------------\n",
      "time   \tgen\tevals\tavg                    \tstd                    \tmin                    \tmax                    \tavg         \tmin         \tmax         \n",
      "103.414\t0  \t80   \t[6.22778046 1.21148372]\t[0.62556036 0.09608392]\t[5.01839426 1.01527032]\t[7.93088365 1.45986427]\t[6.22778046]\t[5.01839426]\t[7.93088365]\n",
      "158.816\t1  \t43   \t[5.6138841  1.11522109]\t[0.26899693 0.0442475 ]\t[4.97405758 1.0078349 ]\t[6.26592666 1.22044083]\t[5.6138841] \t[4.97405758]\t[6.26592666]\n",
      "224.799\t2  \t52   \t[5.30236605 1.06353391]\t[0.18496119 0.03125193]\t[4.97106566 1.00681482]\t[5.70241222 1.1300213 ]\t[5.30236605]\t[4.97106566]\t[5.70241222]\n",
      "284.55 \t3  \t47   \t[5.08648471 1.02683654]\t[0.13101876 0.02241633]\t[4.94195586 1.0009034 ]\t[5.28616093 1.06129482]\t[5.08648471]\t[4.94195586]\t[5.28616093]\n",
      "337.855\t4  \t40   \t[4.9766472  1.00797335]\t[0.03986825 0.00692373]\t[4.93602159 1.00029119]\t[5.22423589 1.05017305]\t[4.9766472] \t[4.93602159]\t[5.22423589]\n",
      "410.339\t5  \t57   \t[4.95085069 1.00316612]\t[0.0100303 0.0020846]  \t[4.94195586 1.0009034 ]\t[4.97106566 1.00681482]\t[4.95085069]\t[4.94195586]\t[4.97106566]\n",
      "466.696\t6  \t43   \t[4.94206613 1.00115844]\t[0.00286208 0.00078873]\t[4.93175903 1.00008233]\t[4.94891561 1.0036808 ]\t[4.94206613]\t[4.93175903]\t[4.94891561]\n",
      "517.382\t7  \t41   \t[4.94094317 1.00107732]\t[0.00228502 0.00039169]\t[4.92986734 1.00008233]\t[4.94195586 1.00261627]\t[4.94094317]\t[4.92986734]\t[4.94195586]\n",
      "584.472\t8  \t54   \t[4.93881949 1.00116816]\t[0.00283626 0.00063214]\t[4.92986734 1.00008233]\t[4.94195586 1.00261627]\t[4.93881949]\t[4.92986734]\t[4.94195586]\n",
      "640.759\t9  \t48   \t[4.93486505 1.0005777 ]\t[0.00258506 0.00038693]\t[4.92986734 1.00008233]\t[4.94022221 1.00227337]\t[4.93486505]\t[4.92986734]\t[4.94022221]\n",
      "rollo Simulation Completed!\n",
      "Total time in simulation 640.76 seconds\n"
     ]
    },
    {
     "name": "stderr",
     "output_type": "stream",
     "text": [
      "WARNING:root: 10 out of 80 inds were constrained\n"
     ]
    },
    {
     "data": {
      "text/plain": [
       "0"
      ]
     },
     "execution_count": 10,
     "metadata": {},
     "output_type": "execute_result"
    }
   ],
   "source": [
    "import subprocess \n",
    "\n",
    "subprocess.call(\"python -m rollo -i rollo_critical_sphere.json\", shell=True)"
   ]
  },
  {
   "cell_type": "markdown",
   "id": "348837e5-ff8a-400f-995e-c00a21ffa668",
   "metadata": {},
   "source": [
    "## Analyze Results Checkpoint File"
   ]
  },
  {
   "cell_type": "code",
   "execution_count": 11,
   "id": "69b90671-f392-488e-87ce-3008f07b1b3c",
   "metadata": {},
   "outputs": [
    {
     "name": "stderr",
     "output_type": "stream",
     "text": [
      "/Users/gwenchee/mambaforge3/lib/python3.9/site-packages/deap/creator.py:138: RuntimeWarning: A class named 'obj' has already been created and it will be overwritten. Consider deleting previous creation of that class or rename it.\n",
      "  warnings.warn(\"A class named '{0}' has already been created and it \"\n",
      "/Users/gwenchee/mambaforge3/lib/python3.9/site-packages/deap/creator.py:138: RuntimeWarning: A class named 'Ind' has already been created and it will be overwritten. Consider deleting previous creation of that class or rename it.\n",
      "  warnings.warn(\"A class named '{0}' has already been created and it \"\n"
     ]
    }
   ],
   "source": [
    "from deap import base, creator, tools, algorithms\n",
    "import matplotlib.pyplot as plt\n",
    "import numpy as np \n",
    "import pickle\n",
    "from numpy import pi\n",
    "import operator\n",
    "\n",
    "creator.create(\"obj\", base.Fitness, weights=(1.0,))\n",
    "creator.create(\"Ind\", list, fitness=creator.obj)\n",
    "\n",
    "checkpoint_file=\"checkpoint.pkl\"\n",
    "with open(checkpoint_file, \"rb\") as cp_file:\n",
    "    cp = pickle.load(cp_file)"
   ]
  },
  {
   "cell_type": "code",
   "execution_count": 12,
   "id": "a7ac55e0-e72c-4f5c-b0a5-ada6f862451d",
   "metadata": {},
   "outputs": [],
   "source": [
    "def get_ind_list(pop_list, index):\n",
    "    ind_list = [] \n",
    "    for pop in pop_list:\n",
    "        ind_list.append(pop[index])\n",
    "    return ind_list"
   ]
  },
  {
   "cell_type": "code",
   "execution_count": 17,
   "id": "287ef6be-aa75-4fc7-9c63-603fd0c2d329",
   "metadata": {},
   "outputs": [
    {
     "data": {
      "image/png": "[encoded data removed]",
      "text/plain": [
       "<Figure size 1080x504 with 1 Axes>"
      ]
     },
     "metadata": {
      "needs_background": "light"
     },
     "output_type": "display_data"
    }
   ],
   "source": [
    "# Radius plot\n",
    "logbook = cp[\"logbook\"]\n",
    "gen = logbook.select(\"gen\")\n",
    "rad_avg = get_ind_list(logbook.chapters[\"oup\"].select(\"avg\"), 0)\n",
    "rad_std = get_ind_list(logbook.chapters[\"oup\"].select(\"std\"), 0)\n",
    "rad_min = get_ind_list(logbook.chapters[\"oup\"].select(\"min\"), 0)\n",
    "rad_max = get_ind_list(logbook.chapters[\"oup\"].select(\"max\"), 0)\n",
    "fig, ax = plt.subplots(figsize=(15,7))\n",
    "ax.errorbar(gen, rad_avg, yerr=rad_std, label=\"Ave radius\")\n",
    "ax.plot(gen, rad_min, \"*-\", label=\"Min radius\")\n",
    "ax.plot(gen, rad_max, \"*-\", label=\"Max radius\")\n",
    "ax.set_xlabel(\"Generation [#]\", fontsize=18)\n",
    "ax.set_ylabel(\"Radius [cm]\", fontsize=18)\n",
    "ax.grid()\n",
    "handles, labels = ax.get_legend_handles_labels()\n",
    "ax.legend(handles, labels, fontsize=18)\n",
    "fig.savefig('radius-convergence.png',bbox_inches='tight', dpi=300)"
   ]
  },
  {
   "cell_type": "code",
   "execution_count": 25,
   "id": "0ead87eb-0d1a-4e6b-9065-56a59fedc8e0",
   "metadata": {},
   "outputs": [
    {
     "name": "stdout",
     "output_type": "stream",
     "text": [
      "Final Generation's Average Radius: 4.93 cm\n"
     ]
    }
   ],
   "source": [
    "print(\"Final Generation's Average Radius:\", round(rad_avg[-1],2), \"cm\")"
   ]
  },
  {
   "cell_type": "markdown",
   "id": "8cf25f9a-938b-440a-960f-ed22c4276963",
   "metadata": {},
   "source": [
    "# ROLLO's average radius values converged to 4.93cm, showing that ROLLO successfully found the critical radius.  "
   ]
  },
  {
   "cell_type": "code",
   "execution_count": 28,
   "id": "7a55fb20-dbcc-4894-825e-a3d68cded2ae",
   "metadata": {},
   "outputs": [
    {
     "data": {
      "text/plain": [
       "['input_file',\n",
       " 'evaluator_files',\n",
       " 'population',\n",
       " 'generation',\n",
       " 'halloffame',\n",
       " 'logbook',\n",
       " 'rndstate',\n",
       " 'all']"
      ]
     },
     "execution_count": 28,
     "metadata": {},
     "output_type": "execute_result"
    }
   ],
   "source": [
    "list(cp)"
   ]
  },
  {
   "cell_type": "code",
   "execution_count": 33,
   "id": "7c135539-14cb-4c26-aec3-909844a561a8",
   "metadata": {},
   "outputs": [
    {
     "data": {
      "text/plain": [
       "[[4.935340911763345],\n",
       " [4.935405724327132],\n",
       " [4.935516665871948],\n",
       " [4.931288739243039],\n",
       " [4.939901151613184],\n",
       " [4.937268732808347],\n",
       " [4.936464338420195],\n",
       " [4.935340911763345],\n",
       " [4.931759030214848],\n",
       " [4.935883044917692],\n",
       " [4.936464338420195],\n",
       " [4.931759030214848],\n",
       " [4.937268732808347],\n",
       " [4.937361549895079],\n",
       " [4.936464338420195],\n",
       " [4.931759030214848],\n",
       " [4.931288739243039],\n",
       " [4.935405724327132],\n",
       " [4.934106469864629],\n",
       " [4.935516665871948],\n",
       " [4.931288739243039],\n",
       " [4.931759030214848],\n",
       " [4.939737187766803],\n",
       " [4.934106469864629],\n",
       " [4.931759030214848],\n",
       " [4.9360772307541],\n",
       " [4.936464338420195],\n",
       " [4.929867339493081],\n",
       " [4.939737187766803],\n",
       " [4.936464338420195],\n",
       " [4.931759030214848],\n",
       " [4.931759030214848],\n",
       " [4.935516665871948],\n",
       " [4.934875571376438],\n",
       " [4.939626818948403],\n",
       " [4.9360772307541],\n",
       " [4.935516665871948],\n",
       " [4.935883044917692],\n",
       " [4.931759030214848],\n",
       " [4.936464338420195],\n",
       " [4.936464338420195],\n",
       " [4.931759030214848],\n",
       " [4.931288739243039],\n",
       " [4.931759030214848],\n",
       " [4.929867339493081],\n",
       " [4.937825960055368],\n",
       " [4.940222212376231],\n",
       " [4.935340911763345],\n",
       " [4.9360772307541],\n",
       " [4.931288739243039],\n",
       " [4.936464338420195],\n",
       " [4.936464338420195],\n",
       " [4.936464338420195],\n",
       " [4.935742368326276],\n",
       " [4.9360772307541],\n",
       " [4.931288739243039],\n",
       " [4.931759030214848],\n",
       " [4.934106469864629],\n",
       " [4.935405724327132],\n",
       " [4.937268732808347],\n",
       " [4.935883044917692],\n",
       " [4.931759030214848],\n",
       " [4.934106469864629],\n",
       " [4.936464338420195],\n",
       " [4.934106469864629],\n",
       " [4.935883044917692],\n",
       " [4.936464338420195],\n",
       " [4.935883044917692],\n",
       " [4.929867339493081],\n",
       " [4.936464338420195],\n",
       " [4.935516665871948],\n",
       " [4.936464338420195],\n",
       " [4.937825960055368],\n",
       " [4.935340911763345],\n",
       " [4.937268732808347],\n",
       " [4.931288739243039],\n",
       " [4.935883044917692],\n",
       " [4.935405724327132],\n",
       " [4.929867339493081],\n",
       " [4.936464338420195]]"
      ]
     },
     "execution_count": 33,
     "metadata": {},
     "output_type": "execute_result"
    }
   ],
   "source": [
    "cp[\"population\"]"
   ]
  },
  {
   "cell_type": "code",
   "execution_count": null,
   "id": "fdc19dce-7aa5-470b-8224-02c8f1dc0e0b",
   "metadata": {},
   "outputs": [],
   "source": []
  }
 ],
 "metadata": {
  "kernelspec": {
   "display_name": "Python 3 (ipykernel)",
   "language": "python",
   "name": "python3"
  },
  "language_info": {
   "codemirror_mode": {
    "name": "ipython",
    "version": 3
   },
   "file_extension": ".py",
   "mimetype": "text/x-python",
   "name": "python",
   "nbconvert_exporter": "python",
   "pygments_lexer": "ipython3",
   "version": "3.9.10"
  }
 },
 "nbformat": 4,
 "nbformat_minor": 5
}
