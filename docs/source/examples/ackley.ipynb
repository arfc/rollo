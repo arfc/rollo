{
 "cells": [
  {
   "cell_type": "code",
   "execution_count": 1,
   "id": "3ced6695-967c-4d39-b117-b212832af151",
   "metadata": {},
   "outputs": [],
   "source": [
    "import numpy as np"
   ]
  },
  {
   "cell_type": "code",
   "execution_count": null,
   "id": "8bf80ad8-6c88-4dd5-b6e9-664b97db7c14",
   "metadata": {},
   "outputs": [],
   "source": [
    "# hello hi"
   ]
  }
 ],
 "metadata": {
  "kernelspec": {
   "display_name": "Python 3 (ipykernel)",
   "language": "python",
   "name": "python3"
  },
  "language_info": {
   "codemirror_mode": {
    "name": "ipython",
    "version": 3
   },
   "file_extension": ".py",
   "mimetype": "text/x-python",
   "name": "python",
   "nbconvert_exporter": "python",
   "pygments_lexer": "ipython3",
   "version": "3.9.10"
  }
 },
 "nbformat": 4,
 "nbformat_minor": 5
}
